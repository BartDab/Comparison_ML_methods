{
 "cells": [
  {
   "cell_type": "code",
   "execution_count": 556,
   "id": "7d00592c",
   "metadata": {},
   "outputs": [],
   "source": [
    "import pandas as pd\n",
    "import numpy as np\n",
    "from sklearn.cluster import KMeans\n",
    "import seaborn as sns\n",
    "import matplotlib.pyplot as plt\n",
    "from sklearn.preprocessing import StandardScaler\n",
    "from mpl_toolkits.mplot3d import Axes3D\n",
    "from sklearn.ensemble import RandomForestClassifier\n",
    "from sklearn.ensemble import RandomForestRegressor\n",
    "from sklearn.model_selection import train_test_split\n",
    "from sklearn.ensemble import GradientBoostingClassifier\n",
    "from sklearn.ensemble import GradientBoostingRegressor\n",
    "from sklearn.discriminant_analysis import LinearDiscriminantAnalysis as LDA\n",
    "from sklearn.metrics import roc_curve, auc\n",
    "from sklearn.metrics import roc_auc_score\n",
    "from sklearn.metrics import precision_recall_fscore_support\n",
    "from sklearn.metrics import confusion_matrix\n",
    "from sklearn.tree import export_graphviz"
   ]
  },
  {
   "cell_type": "markdown",
   "id": "3ec09ce2",
   "metadata": {},
   "source": [
    "<b>World Happiness Report</b> to przełomowe badanie stanu globalnego szczęścia. Pierwszy raport został opublikowany w 2012 roku, drugi w 2013 roku, trzeci w 2015 roku, a czwarty w Aktualizacji 2016 roku. World Happiness 2017, które klasyfikuje 155 krajów według ich poziomu szczęścia, zostało opublikowane w ONZ podczas wydarzenia z okazji Międzynarodowego Dnia Szczęścia 20 marca. Raport nadal zyskuje globalne uznanie, ponieważ rządy, organizacje i społeczeństwo obywatelskie coraz częściej wykorzystują wskaźniki szczęścia do podejmowania decyzji politycznych. Wiodący eksperci w różnych dziedzinach – ekonomia, psychologia, analiza ankiet, statystyka krajowa, zdrowie, polityka publiczna i inne – opisują, w jaki sposób pomiary dobrostanu mogą być skutecznie wykorzystywane do oceny postępów narodów. Raporty dokonują przeglądu stanu szczęścia we współczesnym świecie i pokazują, jak nowa nauka o szczęściu wyjaśnia osobiste i narodowe różnice w szczęściu."
   ]
  },
  {
   "cell_type": "code",
   "execution_count": 557,
   "id": "48d47dc9",
   "metadata": {},
   "outputs": [],
   "source": [
    "data = pd.read_csv(\"world-happiness-report-2021.csv\")"
   ]
  },
  {
   "cell_type": "code",
   "execution_count": 558,
   "id": "d27ddb65",
   "metadata": {},
   "outputs": [
    {
     "data": {
      "text/html": [
       "<div>\n",
       "<style scoped>\n",
       "    .dataframe tbody tr th:only-of-type {\n",
       "        vertical-align: middle;\n",
       "    }\n",
       "\n",
       "    .dataframe tbody tr th {\n",
       "        vertical-align: top;\n",
       "    }\n",
       "\n",
       "    .dataframe thead th {\n",
       "        text-align: right;\n",
       "    }\n",
       "</style>\n",
       "<table border=\"1\" class=\"dataframe\">\n",
       "  <thead>\n",
       "    <tr style=\"text-align: right;\">\n",
       "      <th></th>\n",
       "      <th>Country name</th>\n",
       "      <th>Regional indicator</th>\n",
       "      <th>Ladder score</th>\n",
       "      <th>Standard error of ladder score</th>\n",
       "      <th>upperwhisker</th>\n",
       "      <th>lowerwhisker</th>\n",
       "      <th>Logged GDP per capita</th>\n",
       "      <th>Social support</th>\n",
       "      <th>Healthy life expectancy</th>\n",
       "      <th>Freedom to make life choices</th>\n",
       "      <th>Generosity</th>\n",
       "      <th>Perceptions of corruption</th>\n",
       "      <th>Ladder score in Dystopia</th>\n",
       "      <th>Explained by: Log GDP per capita</th>\n",
       "      <th>Explained by: Social support</th>\n",
       "      <th>Explained by: Healthy life expectancy</th>\n",
       "      <th>Explained by: Freedom to make life choices</th>\n",
       "      <th>Explained by: Generosity</th>\n",
       "      <th>Explained by: Perceptions of corruption</th>\n",
       "      <th>Dystopia + residual</th>\n",
       "    </tr>\n",
       "  </thead>\n",
       "  <tbody>\n",
       "    <tr>\n",
       "      <th>0</th>\n",
       "      <td>Finland</td>\n",
       "      <td>Western Europe</td>\n",
       "      <td>7.842</td>\n",
       "      <td>0.032</td>\n",
       "      <td>7.904</td>\n",
       "      <td>7.780</td>\n",
       "      <td>10.775</td>\n",
       "      <td>0.954</td>\n",
       "      <td>72.0</td>\n",
       "      <td>0.949</td>\n",
       "      <td>-0.098</td>\n",
       "      <td>0.186</td>\n",
       "      <td>2.43</td>\n",
       "      <td>1.446</td>\n",
       "      <td>1.106</td>\n",
       "      <td>0.741</td>\n",
       "      <td>0.691</td>\n",
       "      <td>0.124</td>\n",
       "      <td>0.481</td>\n",
       "      <td>3.253</td>\n",
       "    </tr>\n",
       "    <tr>\n",
       "      <th>1</th>\n",
       "      <td>Denmark</td>\n",
       "      <td>Western Europe</td>\n",
       "      <td>7.620</td>\n",
       "      <td>0.035</td>\n",
       "      <td>7.687</td>\n",
       "      <td>7.552</td>\n",
       "      <td>10.933</td>\n",
       "      <td>0.954</td>\n",
       "      <td>72.7</td>\n",
       "      <td>0.946</td>\n",
       "      <td>0.030</td>\n",
       "      <td>0.179</td>\n",
       "      <td>2.43</td>\n",
       "      <td>1.502</td>\n",
       "      <td>1.108</td>\n",
       "      <td>0.763</td>\n",
       "      <td>0.686</td>\n",
       "      <td>0.208</td>\n",
       "      <td>0.485</td>\n",
       "      <td>2.868</td>\n",
       "    </tr>\n",
       "    <tr>\n",
       "      <th>2</th>\n",
       "      <td>Switzerland</td>\n",
       "      <td>Western Europe</td>\n",
       "      <td>7.571</td>\n",
       "      <td>0.036</td>\n",
       "      <td>7.643</td>\n",
       "      <td>7.500</td>\n",
       "      <td>11.117</td>\n",
       "      <td>0.942</td>\n",
       "      <td>74.4</td>\n",
       "      <td>0.919</td>\n",
       "      <td>0.025</td>\n",
       "      <td>0.292</td>\n",
       "      <td>2.43</td>\n",
       "      <td>1.566</td>\n",
       "      <td>1.079</td>\n",
       "      <td>0.816</td>\n",
       "      <td>0.653</td>\n",
       "      <td>0.204</td>\n",
       "      <td>0.413</td>\n",
       "      <td>2.839</td>\n",
       "    </tr>\n",
       "    <tr>\n",
       "      <th>3</th>\n",
       "      <td>Iceland</td>\n",
       "      <td>Western Europe</td>\n",
       "      <td>7.554</td>\n",
       "      <td>0.059</td>\n",
       "      <td>7.670</td>\n",
       "      <td>7.438</td>\n",
       "      <td>10.878</td>\n",
       "      <td>0.983</td>\n",
       "      <td>73.0</td>\n",
       "      <td>0.955</td>\n",
       "      <td>0.160</td>\n",
       "      <td>0.673</td>\n",
       "      <td>2.43</td>\n",
       "      <td>1.482</td>\n",
       "      <td>1.172</td>\n",
       "      <td>0.772</td>\n",
       "      <td>0.698</td>\n",
       "      <td>0.293</td>\n",
       "      <td>0.170</td>\n",
       "      <td>2.967</td>\n",
       "    </tr>\n",
       "    <tr>\n",
       "      <th>4</th>\n",
       "      <td>Netherlands</td>\n",
       "      <td>Western Europe</td>\n",
       "      <td>7.464</td>\n",
       "      <td>0.027</td>\n",
       "      <td>7.518</td>\n",
       "      <td>7.410</td>\n",
       "      <td>10.932</td>\n",
       "      <td>0.942</td>\n",
       "      <td>72.4</td>\n",
       "      <td>0.913</td>\n",
       "      <td>0.175</td>\n",
       "      <td>0.338</td>\n",
       "      <td>2.43</td>\n",
       "      <td>1.501</td>\n",
       "      <td>1.079</td>\n",
       "      <td>0.753</td>\n",
       "      <td>0.647</td>\n",
       "      <td>0.302</td>\n",
       "      <td>0.384</td>\n",
       "      <td>2.798</td>\n",
       "    </tr>\n",
       "    <tr>\n",
       "      <th>5</th>\n",
       "      <td>Norway</td>\n",
       "      <td>Western Europe</td>\n",
       "      <td>7.392</td>\n",
       "      <td>0.035</td>\n",
       "      <td>7.462</td>\n",
       "      <td>7.323</td>\n",
       "      <td>11.053</td>\n",
       "      <td>0.954</td>\n",
       "      <td>73.3</td>\n",
       "      <td>0.960</td>\n",
       "      <td>0.093</td>\n",
       "      <td>0.270</td>\n",
       "      <td>2.43</td>\n",
       "      <td>1.543</td>\n",
       "      <td>1.108</td>\n",
       "      <td>0.782</td>\n",
       "      <td>0.703</td>\n",
       "      <td>0.249</td>\n",
       "      <td>0.427</td>\n",
       "      <td>2.580</td>\n",
       "    </tr>\n",
       "    <tr>\n",
       "      <th>6</th>\n",
       "      <td>Sweden</td>\n",
       "      <td>Western Europe</td>\n",
       "      <td>7.363</td>\n",
       "      <td>0.036</td>\n",
       "      <td>7.433</td>\n",
       "      <td>7.293</td>\n",
       "      <td>10.867</td>\n",
       "      <td>0.934</td>\n",
       "      <td>72.7</td>\n",
       "      <td>0.945</td>\n",
       "      <td>0.086</td>\n",
       "      <td>0.237</td>\n",
       "      <td>2.43</td>\n",
       "      <td>1.478</td>\n",
       "      <td>1.062</td>\n",
       "      <td>0.763</td>\n",
       "      <td>0.685</td>\n",
       "      <td>0.244</td>\n",
       "      <td>0.448</td>\n",
       "      <td>2.683</td>\n",
       "    </tr>\n",
       "    <tr>\n",
       "      <th>7</th>\n",
       "      <td>Luxembourg</td>\n",
       "      <td>Western Europe</td>\n",
       "      <td>7.324</td>\n",
       "      <td>0.037</td>\n",
       "      <td>7.396</td>\n",
       "      <td>7.252</td>\n",
       "      <td>11.647</td>\n",
       "      <td>0.908</td>\n",
       "      <td>72.6</td>\n",
       "      <td>0.907</td>\n",
       "      <td>-0.034</td>\n",
       "      <td>0.386</td>\n",
       "      <td>2.43</td>\n",
       "      <td>1.751</td>\n",
       "      <td>1.003</td>\n",
       "      <td>0.760</td>\n",
       "      <td>0.639</td>\n",
       "      <td>0.166</td>\n",
       "      <td>0.353</td>\n",
       "      <td>2.653</td>\n",
       "    </tr>\n",
       "    <tr>\n",
       "      <th>8</th>\n",
       "      <td>New Zealand</td>\n",
       "      <td>North America and ANZ</td>\n",
       "      <td>7.277</td>\n",
       "      <td>0.040</td>\n",
       "      <td>7.355</td>\n",
       "      <td>7.198</td>\n",
       "      <td>10.643</td>\n",
       "      <td>0.948</td>\n",
       "      <td>73.4</td>\n",
       "      <td>0.929</td>\n",
       "      <td>0.134</td>\n",
       "      <td>0.242</td>\n",
       "      <td>2.43</td>\n",
       "      <td>1.400</td>\n",
       "      <td>1.094</td>\n",
       "      <td>0.785</td>\n",
       "      <td>0.665</td>\n",
       "      <td>0.276</td>\n",
       "      <td>0.445</td>\n",
       "      <td>2.612</td>\n",
       "    </tr>\n",
       "    <tr>\n",
       "      <th>9</th>\n",
       "      <td>Austria</td>\n",
       "      <td>Western Europe</td>\n",
       "      <td>7.268</td>\n",
       "      <td>0.036</td>\n",
       "      <td>7.337</td>\n",
       "      <td>7.198</td>\n",
       "      <td>10.906</td>\n",
       "      <td>0.934</td>\n",
       "      <td>73.3</td>\n",
       "      <td>0.908</td>\n",
       "      <td>0.042</td>\n",
       "      <td>0.481</td>\n",
       "      <td>2.43</td>\n",
       "      <td>1.492</td>\n",
       "      <td>1.062</td>\n",
       "      <td>0.782</td>\n",
       "      <td>0.640</td>\n",
       "      <td>0.215</td>\n",
       "      <td>0.292</td>\n",
       "      <td>2.784</td>\n",
       "    </tr>\n",
       "  </tbody>\n",
       "</table>\n",
       "</div>"
      ],
      "text/plain": [
       "  Country name     Regional indicator  Ladder score  \\\n",
       "0      Finland         Western Europe         7.842   \n",
       "1      Denmark         Western Europe         7.620   \n",
       "2  Switzerland         Western Europe         7.571   \n",
       "3      Iceland         Western Europe         7.554   \n",
       "4  Netherlands         Western Europe         7.464   \n",
       "5       Norway         Western Europe         7.392   \n",
       "6       Sweden         Western Europe         7.363   \n",
       "7   Luxembourg         Western Europe         7.324   \n",
       "8  New Zealand  North America and ANZ         7.277   \n",
       "9      Austria         Western Europe         7.268   \n",
       "\n",
       "   Standard error of ladder score  upperwhisker  lowerwhisker  \\\n",
       "0                           0.032         7.904         7.780   \n",
       "1                           0.035         7.687         7.552   \n",
       "2                           0.036         7.643         7.500   \n",
       "3                           0.059         7.670         7.438   \n",
       "4                           0.027         7.518         7.410   \n",
       "5                           0.035         7.462         7.323   \n",
       "6                           0.036         7.433         7.293   \n",
       "7                           0.037         7.396         7.252   \n",
       "8                           0.040         7.355         7.198   \n",
       "9                           0.036         7.337         7.198   \n",
       "\n",
       "   Logged GDP per capita  Social support  Healthy life expectancy  \\\n",
       "0                 10.775           0.954                     72.0   \n",
       "1                 10.933           0.954                     72.7   \n",
       "2                 11.117           0.942                     74.4   \n",
       "3                 10.878           0.983                     73.0   \n",
       "4                 10.932           0.942                     72.4   \n",
       "5                 11.053           0.954                     73.3   \n",
       "6                 10.867           0.934                     72.7   \n",
       "7                 11.647           0.908                     72.6   \n",
       "8                 10.643           0.948                     73.4   \n",
       "9                 10.906           0.934                     73.3   \n",
       "\n",
       "   Freedom to make life choices  Generosity  Perceptions of corruption  \\\n",
       "0                         0.949      -0.098                      0.186   \n",
       "1                         0.946       0.030                      0.179   \n",
       "2                         0.919       0.025                      0.292   \n",
       "3                         0.955       0.160                      0.673   \n",
       "4                         0.913       0.175                      0.338   \n",
       "5                         0.960       0.093                      0.270   \n",
       "6                         0.945       0.086                      0.237   \n",
       "7                         0.907      -0.034                      0.386   \n",
       "8                         0.929       0.134                      0.242   \n",
       "9                         0.908       0.042                      0.481   \n",
       "\n",
       "   Ladder score in Dystopia  Explained by: Log GDP per capita  \\\n",
       "0                      2.43                             1.446   \n",
       "1                      2.43                             1.502   \n",
       "2                      2.43                             1.566   \n",
       "3                      2.43                             1.482   \n",
       "4                      2.43                             1.501   \n",
       "5                      2.43                             1.543   \n",
       "6                      2.43                             1.478   \n",
       "7                      2.43                             1.751   \n",
       "8                      2.43                             1.400   \n",
       "9                      2.43                             1.492   \n",
       "\n",
       "   Explained by: Social support  Explained by: Healthy life expectancy  \\\n",
       "0                         1.106                                  0.741   \n",
       "1                         1.108                                  0.763   \n",
       "2                         1.079                                  0.816   \n",
       "3                         1.172                                  0.772   \n",
       "4                         1.079                                  0.753   \n",
       "5                         1.108                                  0.782   \n",
       "6                         1.062                                  0.763   \n",
       "7                         1.003                                  0.760   \n",
       "8                         1.094                                  0.785   \n",
       "9                         1.062                                  0.782   \n",
       "\n",
       "   Explained by: Freedom to make life choices  Explained by: Generosity  \\\n",
       "0                                       0.691                     0.124   \n",
       "1                                       0.686                     0.208   \n",
       "2                                       0.653                     0.204   \n",
       "3                                       0.698                     0.293   \n",
       "4                                       0.647                     0.302   \n",
       "5                                       0.703                     0.249   \n",
       "6                                       0.685                     0.244   \n",
       "7                                       0.639                     0.166   \n",
       "8                                       0.665                     0.276   \n",
       "9                                       0.640                     0.215   \n",
       "\n",
       "   Explained by: Perceptions of corruption  Dystopia + residual  \n",
       "0                                    0.481                3.253  \n",
       "1                                    0.485                2.868  \n",
       "2                                    0.413                2.839  \n",
       "3                                    0.170                2.967  \n",
       "4                                    0.384                2.798  \n",
       "5                                    0.427                2.580  \n",
       "6                                    0.448                2.683  \n",
       "7                                    0.353                2.653  \n",
       "8                                    0.445                2.612  \n",
       "9                                    0.292                2.784  "
      ]
     },
     "execution_count": 558,
     "metadata": {},
     "output_type": "execute_result"
    }
   ],
   "source": [
    "data.head(10)"
   ]
  },
  {
   "cell_type": "code",
   "execution_count": 559,
   "id": "c74a8b36",
   "metadata": {
    "scrolled": false
   },
   "outputs": [
    {
     "name": "stdout",
     "output_type": "stream",
     "text": [
      "<class 'pandas.core.frame.DataFrame'>\n",
      "RangeIndex: 149 entries, 0 to 148\n",
      "Data columns (total 20 columns):\n",
      " #   Column                                      Non-Null Count  Dtype  \n",
      "---  ------                                      --------------  -----  \n",
      " 0   Country name                                149 non-null    object \n",
      " 1   Regional indicator                          149 non-null    object \n",
      " 2   Ladder score                                149 non-null    float64\n",
      " 3   Standard error of ladder score              149 non-null    float64\n",
      " 4   upperwhisker                                149 non-null    float64\n",
      " 5   lowerwhisker                                149 non-null    float64\n",
      " 6   Logged GDP per capita                       149 non-null    float64\n",
      " 7   Social support                              149 non-null    float64\n",
      " 8   Healthy life expectancy                     149 non-null    float64\n",
      " 9   Freedom to make life choices                149 non-null    float64\n",
      " 10  Generosity                                  149 non-null    float64\n",
      " 11  Perceptions of corruption                   149 non-null    float64\n",
      " 12  Ladder score in Dystopia                    149 non-null    float64\n",
      " 13  Explained by: Log GDP per capita            149 non-null    float64\n",
      " 14  Explained by: Social support                149 non-null    float64\n",
      " 15  Explained by: Healthy life expectancy       149 non-null    float64\n",
      " 16  Explained by: Freedom to make life choices  149 non-null    float64\n",
      " 17  Explained by: Generosity                    149 non-null    float64\n",
      " 18  Explained by: Perceptions of corruption     149 non-null    float64\n",
      " 19  Dystopia + residual                         149 non-null    float64\n",
      "dtypes: float64(18), object(2)\n",
      "memory usage: 23.4+ KB\n"
     ]
    }
   ],
   "source": [
    "data.info()"
   ]
  },
  {
   "cell_type": "code",
   "execution_count": 560,
   "id": "47a79981",
   "metadata": {
    "scrolled": false
   },
   "outputs": [
    {
     "data": {
      "text/html": [
       "<div>\n",
       "<style scoped>\n",
       "    .dataframe tbody tr th:only-of-type {\n",
       "        vertical-align: middle;\n",
       "    }\n",
       "\n",
       "    .dataframe tbody tr th {\n",
       "        vertical-align: top;\n",
       "    }\n",
       "\n",
       "    .dataframe thead th {\n",
       "        text-align: right;\n",
       "    }\n",
       "</style>\n",
       "<table border=\"1\" class=\"dataframe\">\n",
       "  <thead>\n",
       "    <tr style=\"text-align: right;\">\n",
       "      <th></th>\n",
       "      <th>Ladder score</th>\n",
       "      <th>Standard error of ladder score</th>\n",
       "      <th>upperwhisker</th>\n",
       "      <th>lowerwhisker</th>\n",
       "      <th>Logged GDP per capita</th>\n",
       "      <th>Social support</th>\n",
       "      <th>Healthy life expectancy</th>\n",
       "      <th>Freedom to make life choices</th>\n",
       "      <th>Generosity</th>\n",
       "      <th>Perceptions of corruption</th>\n",
       "      <th>Ladder score in Dystopia</th>\n",
       "      <th>Explained by: Log GDP per capita</th>\n",
       "      <th>Explained by: Social support</th>\n",
       "      <th>Explained by: Healthy life expectancy</th>\n",
       "      <th>Explained by: Freedom to make life choices</th>\n",
       "      <th>Explained by: Generosity</th>\n",
       "      <th>Explained by: Perceptions of corruption</th>\n",
       "      <th>Dystopia + residual</th>\n",
       "    </tr>\n",
       "  </thead>\n",
       "  <tbody>\n",
       "    <tr>\n",
       "      <th>count</th>\n",
       "      <td>149.000000</td>\n",
       "      <td>149.000000</td>\n",
       "      <td>149.000000</td>\n",
       "      <td>149.000000</td>\n",
       "      <td>149.000000</td>\n",
       "      <td>149.000000</td>\n",
       "      <td>149.000000</td>\n",
       "      <td>149.000000</td>\n",
       "      <td>149.000000</td>\n",
       "      <td>149.000000</td>\n",
       "      <td>149.00</td>\n",
       "      <td>149.000000</td>\n",
       "      <td>149.000000</td>\n",
       "      <td>149.000000</td>\n",
       "      <td>149.000000</td>\n",
       "      <td>149.000000</td>\n",
       "      <td>149.000000</td>\n",
       "      <td>149.000000</td>\n",
       "    </tr>\n",
       "    <tr>\n",
       "      <th>mean</th>\n",
       "      <td>5.532839</td>\n",
       "      <td>0.058752</td>\n",
       "      <td>5.648007</td>\n",
       "      <td>5.417631</td>\n",
       "      <td>9.432208</td>\n",
       "      <td>0.814745</td>\n",
       "      <td>64.992799</td>\n",
       "      <td>0.791597</td>\n",
       "      <td>-0.015134</td>\n",
       "      <td>0.727450</td>\n",
       "      <td>2.43</td>\n",
       "      <td>0.977161</td>\n",
       "      <td>0.793315</td>\n",
       "      <td>0.520161</td>\n",
       "      <td>0.498711</td>\n",
       "      <td>0.178047</td>\n",
       "      <td>0.135141</td>\n",
       "      <td>2.430329</td>\n",
       "    </tr>\n",
       "    <tr>\n",
       "      <th>std</th>\n",
       "      <td>1.073924</td>\n",
       "      <td>0.022001</td>\n",
       "      <td>1.054330</td>\n",
       "      <td>1.094879</td>\n",
       "      <td>1.158601</td>\n",
       "      <td>0.114889</td>\n",
       "      <td>6.762043</td>\n",
       "      <td>0.113332</td>\n",
       "      <td>0.150657</td>\n",
       "      <td>0.179226</td>\n",
       "      <td>0.00</td>\n",
       "      <td>0.404740</td>\n",
       "      <td>0.258871</td>\n",
       "      <td>0.213019</td>\n",
       "      <td>0.137888</td>\n",
       "      <td>0.098270</td>\n",
       "      <td>0.114361</td>\n",
       "      <td>0.537645</td>\n",
       "    </tr>\n",
       "    <tr>\n",
       "      <th>min</th>\n",
       "      <td>2.523000</td>\n",
       "      <td>0.026000</td>\n",
       "      <td>2.596000</td>\n",
       "      <td>2.449000</td>\n",
       "      <td>6.635000</td>\n",
       "      <td>0.463000</td>\n",
       "      <td>48.478000</td>\n",
       "      <td>0.382000</td>\n",
       "      <td>-0.288000</td>\n",
       "      <td>0.082000</td>\n",
       "      <td>2.43</td>\n",
       "      <td>0.000000</td>\n",
       "      <td>0.000000</td>\n",
       "      <td>0.000000</td>\n",
       "      <td>0.000000</td>\n",
       "      <td>0.000000</td>\n",
       "      <td>0.000000</td>\n",
       "      <td>0.648000</td>\n",
       "    </tr>\n",
       "    <tr>\n",
       "      <th>25%</th>\n",
       "      <td>4.852000</td>\n",
       "      <td>0.043000</td>\n",
       "      <td>4.991000</td>\n",
       "      <td>4.706000</td>\n",
       "      <td>8.541000</td>\n",
       "      <td>0.750000</td>\n",
       "      <td>59.802000</td>\n",
       "      <td>0.718000</td>\n",
       "      <td>-0.126000</td>\n",
       "      <td>0.667000</td>\n",
       "      <td>2.43</td>\n",
       "      <td>0.666000</td>\n",
       "      <td>0.647000</td>\n",
       "      <td>0.357000</td>\n",
       "      <td>0.409000</td>\n",
       "      <td>0.105000</td>\n",
       "      <td>0.060000</td>\n",
       "      <td>2.138000</td>\n",
       "    </tr>\n",
       "    <tr>\n",
       "      <th>50%</th>\n",
       "      <td>5.534000</td>\n",
       "      <td>0.054000</td>\n",
       "      <td>5.625000</td>\n",
       "      <td>5.413000</td>\n",
       "      <td>9.569000</td>\n",
       "      <td>0.832000</td>\n",
       "      <td>66.603000</td>\n",
       "      <td>0.804000</td>\n",
       "      <td>-0.036000</td>\n",
       "      <td>0.781000</td>\n",
       "      <td>2.43</td>\n",
       "      <td>1.025000</td>\n",
       "      <td>0.832000</td>\n",
       "      <td>0.571000</td>\n",
       "      <td>0.514000</td>\n",
       "      <td>0.164000</td>\n",
       "      <td>0.101000</td>\n",
       "      <td>2.509000</td>\n",
       "    </tr>\n",
       "    <tr>\n",
       "      <th>75%</th>\n",
       "      <td>6.255000</td>\n",
       "      <td>0.070000</td>\n",
       "      <td>6.344000</td>\n",
       "      <td>6.128000</td>\n",
       "      <td>10.421000</td>\n",
       "      <td>0.905000</td>\n",
       "      <td>69.600000</td>\n",
       "      <td>0.877000</td>\n",
       "      <td>0.079000</td>\n",
       "      <td>0.845000</td>\n",
       "      <td>2.43</td>\n",
       "      <td>1.323000</td>\n",
       "      <td>0.996000</td>\n",
       "      <td>0.665000</td>\n",
       "      <td>0.603000</td>\n",
       "      <td>0.239000</td>\n",
       "      <td>0.174000</td>\n",
       "      <td>2.794000</td>\n",
       "    </tr>\n",
       "    <tr>\n",
       "      <th>max</th>\n",
       "      <td>7.842000</td>\n",
       "      <td>0.173000</td>\n",
       "      <td>7.904000</td>\n",
       "      <td>7.780000</td>\n",
       "      <td>11.647000</td>\n",
       "      <td>0.983000</td>\n",
       "      <td>76.953000</td>\n",
       "      <td>0.970000</td>\n",
       "      <td>0.542000</td>\n",
       "      <td>0.939000</td>\n",
       "      <td>2.43</td>\n",
       "      <td>1.751000</td>\n",
       "      <td>1.172000</td>\n",
       "      <td>0.897000</td>\n",
       "      <td>0.716000</td>\n",
       "      <td>0.541000</td>\n",
       "      <td>0.547000</td>\n",
       "      <td>3.482000</td>\n",
       "    </tr>\n",
       "  </tbody>\n",
       "</table>\n",
       "</div>"
      ],
      "text/plain": [
       "       Ladder score  Standard error of ladder score  upperwhisker  \\\n",
       "count    149.000000                      149.000000    149.000000   \n",
       "mean       5.532839                        0.058752      5.648007   \n",
       "std        1.073924                        0.022001      1.054330   \n",
       "min        2.523000                        0.026000      2.596000   \n",
       "25%        4.852000                        0.043000      4.991000   \n",
       "50%        5.534000                        0.054000      5.625000   \n",
       "75%        6.255000                        0.070000      6.344000   \n",
       "max        7.842000                        0.173000      7.904000   \n",
       "\n",
       "       lowerwhisker  Logged GDP per capita  Social support  \\\n",
       "count    149.000000             149.000000      149.000000   \n",
       "mean       5.417631               9.432208        0.814745   \n",
       "std        1.094879               1.158601        0.114889   \n",
       "min        2.449000               6.635000        0.463000   \n",
       "25%        4.706000               8.541000        0.750000   \n",
       "50%        5.413000               9.569000        0.832000   \n",
       "75%        6.128000              10.421000        0.905000   \n",
       "max        7.780000              11.647000        0.983000   \n",
       "\n",
       "       Healthy life expectancy  Freedom to make life choices  Generosity  \\\n",
       "count               149.000000                    149.000000  149.000000   \n",
       "mean                 64.992799                      0.791597   -0.015134   \n",
       "std                   6.762043                      0.113332    0.150657   \n",
       "min                  48.478000                      0.382000   -0.288000   \n",
       "25%                  59.802000                      0.718000   -0.126000   \n",
       "50%                  66.603000                      0.804000   -0.036000   \n",
       "75%                  69.600000                      0.877000    0.079000   \n",
       "max                  76.953000                      0.970000    0.542000   \n",
       "\n",
       "       Perceptions of corruption  Ladder score in Dystopia  \\\n",
       "count                 149.000000                    149.00   \n",
       "mean                    0.727450                      2.43   \n",
       "std                     0.179226                      0.00   \n",
       "min                     0.082000                      2.43   \n",
       "25%                     0.667000                      2.43   \n",
       "50%                     0.781000                      2.43   \n",
       "75%                     0.845000                      2.43   \n",
       "max                     0.939000                      2.43   \n",
       "\n",
       "       Explained by: Log GDP per capita  Explained by: Social support  \\\n",
       "count                        149.000000                    149.000000   \n",
       "mean                           0.977161                      0.793315   \n",
       "std                            0.404740                      0.258871   \n",
       "min                            0.000000                      0.000000   \n",
       "25%                            0.666000                      0.647000   \n",
       "50%                            1.025000                      0.832000   \n",
       "75%                            1.323000                      0.996000   \n",
       "max                            1.751000                      1.172000   \n",
       "\n",
       "       Explained by: Healthy life expectancy  \\\n",
       "count                             149.000000   \n",
       "mean                                0.520161   \n",
       "std                                 0.213019   \n",
       "min                                 0.000000   \n",
       "25%                                 0.357000   \n",
       "50%                                 0.571000   \n",
       "75%                                 0.665000   \n",
       "max                                 0.897000   \n",
       "\n",
       "       Explained by: Freedom to make life choices  Explained by: Generosity  \\\n",
       "count                                  149.000000                149.000000   \n",
       "mean                                     0.498711                  0.178047   \n",
       "std                                      0.137888                  0.098270   \n",
       "min                                      0.000000                  0.000000   \n",
       "25%                                      0.409000                  0.105000   \n",
       "50%                                      0.514000                  0.164000   \n",
       "75%                                      0.603000                  0.239000   \n",
       "max                                      0.716000                  0.541000   \n",
       "\n",
       "       Explained by: Perceptions of corruption  Dystopia + residual  \n",
       "count                               149.000000           149.000000  \n",
       "mean                                  0.135141             2.430329  \n",
       "std                                   0.114361             0.537645  \n",
       "min                                   0.000000             0.648000  \n",
       "25%                                   0.060000             2.138000  \n",
       "50%                                   0.101000             2.509000  \n",
       "75%                                   0.174000             2.794000  \n",
       "max                                   0.547000             3.482000  "
      ]
     },
     "execution_count": 560,
     "metadata": {},
     "output_type": "execute_result"
    }
   ],
   "source": [
    "data.describe()"
   ]
  },
  {
   "cell_type": "markdown",
   "id": "3b274596",
   "metadata": {},
   "source": [
    "Sprawdzamy występowanie obserwacji niepełnych."
   ]
  },
  {
   "cell_type": "code",
   "execution_count": 561,
   "id": "829650db",
   "metadata": {},
   "outputs": [
    {
     "data": {
      "text/html": [
       "<div>\n",
       "<style scoped>\n",
       "    .dataframe tbody tr th:only-of-type {\n",
       "        vertical-align: middle;\n",
       "    }\n",
       "\n",
       "    .dataframe tbody tr th {\n",
       "        vertical-align: top;\n",
       "    }\n",
       "\n",
       "    .dataframe thead th {\n",
       "        text-align: right;\n",
       "    }\n",
       "</style>\n",
       "<table border=\"1\" class=\"dataframe\">\n",
       "  <thead>\n",
       "    <tr style=\"text-align: right;\">\n",
       "      <th></th>\n",
       "      <th>Country name</th>\n",
       "      <th>Regional indicator</th>\n",
       "      <th>Ladder score</th>\n",
       "      <th>Standard error of ladder score</th>\n",
       "      <th>upperwhisker</th>\n",
       "      <th>lowerwhisker</th>\n",
       "      <th>Logged GDP per capita</th>\n",
       "      <th>Social support</th>\n",
       "      <th>Healthy life expectancy</th>\n",
       "      <th>Freedom to make life choices</th>\n",
       "      <th>Generosity</th>\n",
       "      <th>Perceptions of corruption</th>\n",
       "      <th>Ladder score in Dystopia</th>\n",
       "      <th>Explained by: Log GDP per capita</th>\n",
       "      <th>Explained by: Social support</th>\n",
       "      <th>Explained by: Healthy life expectancy</th>\n",
       "      <th>Explained by: Freedom to make life choices</th>\n",
       "      <th>Explained by: Generosity</th>\n",
       "      <th>Explained by: Perceptions of corruption</th>\n",
       "      <th>Dystopia + residual</th>\n",
       "    </tr>\n",
       "  </thead>\n",
       "  <tbody>\n",
       "  </tbody>\n",
       "</table>\n",
       "</div>"
      ],
      "text/plain": [
       "Empty DataFrame\n",
       "Columns: [Country name, Regional indicator, Ladder score, Standard error of ladder score, upperwhisker, lowerwhisker, Logged GDP per capita, Social support, Healthy life expectancy, Freedom to make life choices, Generosity, Perceptions of corruption, Ladder score in Dystopia, Explained by: Log GDP per capita, Explained by: Social support, Explained by: Healthy life expectancy, Explained by: Freedom to make life choices, Explained by: Generosity, Explained by: Perceptions of corruption, Dystopia + residual]\n",
       "Index: []"
      ]
     },
     "execution_count": 561,
     "metadata": {},
     "output_type": "execute_result"
    }
   ],
   "source": [
    "data_na=data[data.isna().any(axis=1)]\n",
    "data_na"
   ]
  },
  {
   "cell_type": "markdown",
   "id": "ccb37788",
   "metadata": {},
   "source": [
    "Szczęśliwie, w analizowanym zbiorze nie znalazły się takie przypadki - dane są kompletne i nie zawierają NA."
   ]
  },
  {
   "cell_type": "markdown",
   "id": "dad5cbc9",
   "metadata": {},
   "source": [
    "Do zmiennej features przypisujemy kolumny, które wykorzystamy jako zmienne objaśniające."
   ]
  },
  {
   "cell_type": "code",
   "execution_count": 562,
   "id": "5e95d0ae",
   "metadata": {},
   "outputs": [],
   "source": [
    "features=['Social support','Healthy life expectancy','Freedom to make life choices','Generosity','Perceptions of corruption']"
   ]
  },
  {
   "cell_type": "code",
   "execution_count": null,
   "id": "1e9e0ddb",
   "metadata": {},
   "outputs": [],
   "source": []
  },
  {
   "cell_type": "markdown",
   "id": "235bfa35",
   "metadata": {},
   "source": [
    "Kolejnym krokiem jest sprawdzenie korelacji pomiędzy zmiennymi - w idealnym przypadku powinna być jak najwyższa ze zmienną objaśnianą, a jak najniższe pomiędzy zmiennymi objaśniającymi."
   ]
  },
  {
   "cell_type": "markdown",
   "id": "87ce6c45",
   "metadata": {},
   "source": [
    "W celu implementacji algorytmów klasyfikacyjnych zmienna 'Ladder score' została przekształcona w zmienną zero-jedynkową. Jako punkt graniczny uznajemy wartość 6."
   ]
  },
  {
   "cell_type": "code",
   "execution_count": 563,
   "id": "5a9d00e4",
   "metadata": {},
   "outputs": [
    {
     "data": {
      "text/plain": [
       "<AxesSubplot:>"
      ]
     },
     "execution_count": 563,
     "metadata": {},
     "output_type": "execute_result"
    },
    {
     "data": {
      "image/png": "[encoded data removed]",
      "text/plain": [
       "<Figure size 576x576 with 2 Axes>"
      ]
     },
     "metadata": {
      "needs_background": "light"
     },
     "output_type": "display_data"
    }
   ],
   "source": [
    "cor=data.loc[:,['Ladder score', 'Social support','Healthy life expectancy','Freedom to make life choices','Generosity','Perceptions of corruption']]\n",
    "cor=data.loc[:,['Ladder score', 'Social support','Healthy life expectancy','Freedom to make life choices','Generosity','Perceptions of corruption']].corr()\n",
    "\n",
    "fig, ax = plt.subplots(figsize=(8,8))\n",
    "sns.heatmap(ax=ax, data=cor)"
   ]
  },
  {
   "cell_type": "code",
   "execution_count": 564,
   "id": "731da613",
   "metadata": {
    "scrolled": false
   },
   "outputs": [
    {
     "data": {
      "text/html": [
       "<div>\n",
       "<style scoped>\n",
       "    .dataframe tbody tr th:only-of-type {\n",
       "        vertical-align: middle;\n",
       "    }\n",
       "\n",
       "    .dataframe tbody tr th {\n",
       "        vertical-align: top;\n",
       "    }\n",
       "\n",
       "    .dataframe thead th {\n",
       "        text-align: right;\n",
       "    }\n",
       "</style>\n",
       "<table border=\"1\" class=\"dataframe\">\n",
       "  <thead>\n",
       "    <tr style=\"text-align: right;\">\n",
       "      <th></th>\n",
       "      <th>Ladder score</th>\n",
       "      <th>Social support</th>\n",
       "      <th>Healthy life expectancy</th>\n",
       "      <th>Freedom to make life choices</th>\n",
       "      <th>Generosity</th>\n",
       "      <th>Perceptions of corruption</th>\n",
       "    </tr>\n",
       "  </thead>\n",
       "  <tbody>\n",
       "    <tr>\n",
       "      <th>Ladder score</th>\n",
       "      <td>1.000000</td>\n",
       "      <td>0.756888</td>\n",
       "      <td>0.768099</td>\n",
       "      <td>0.607753</td>\n",
       "      <td>-0.017799</td>\n",
       "      <td>-0.421140</td>\n",
       "    </tr>\n",
       "    <tr>\n",
       "      <th>Social support</th>\n",
       "      <td>0.756888</td>\n",
       "      <td>1.000000</td>\n",
       "      <td>0.723256</td>\n",
       "      <td>0.482930</td>\n",
       "      <td>-0.114946</td>\n",
       "      <td>-0.203207</td>\n",
       "    </tr>\n",
       "    <tr>\n",
       "      <th>Healthy life expectancy</th>\n",
       "      <td>0.768099</td>\n",
       "      <td>0.723256</td>\n",
       "      <td>1.000000</td>\n",
       "      <td>0.461494</td>\n",
       "      <td>-0.161750</td>\n",
       "      <td>-0.364374</td>\n",
       "    </tr>\n",
       "    <tr>\n",
       "      <th>Freedom to make life choices</th>\n",
       "      <td>0.607753</td>\n",
       "      <td>0.482930</td>\n",
       "      <td>0.461494</td>\n",
       "      <td>1.000000</td>\n",
       "      <td>0.169437</td>\n",
       "      <td>-0.401363</td>\n",
       "    </tr>\n",
       "    <tr>\n",
       "      <th>Generosity</th>\n",
       "      <td>-0.017799</td>\n",
       "      <td>-0.114946</td>\n",
       "      <td>-0.161750</td>\n",
       "      <td>0.169437</td>\n",
       "      <td>1.000000</td>\n",
       "      <td>-0.163962</td>\n",
       "    </tr>\n",
       "    <tr>\n",
       "      <th>Perceptions of corruption</th>\n",
       "      <td>-0.421140</td>\n",
       "      <td>-0.203207</td>\n",
       "      <td>-0.364374</td>\n",
       "      <td>-0.401363</td>\n",
       "      <td>-0.163962</td>\n",
       "      <td>1.000000</td>\n",
       "    </tr>\n",
       "  </tbody>\n",
       "</table>\n",
       "</div>"
      ],
      "text/plain": [
       "                              Ladder score  Social support  \\\n",
       "Ladder score                      1.000000        0.756888   \n",
       "Social support                    0.756888        1.000000   \n",
       "Healthy life expectancy           0.768099        0.723256   \n",
       "Freedom to make life choices      0.607753        0.482930   \n",
       "Generosity                       -0.017799       -0.114946   \n",
       "Perceptions of corruption        -0.421140       -0.203207   \n",
       "\n",
       "                              Healthy life expectancy  \\\n",
       "Ladder score                                 0.768099   \n",
       "Social support                               0.723256   \n",
       "Healthy life expectancy                      1.000000   \n",
       "Freedom to make life choices                 0.461494   \n",
       "Generosity                                  -0.161750   \n",
       "Perceptions of corruption                   -0.364374   \n",
       "\n",
       "                              Freedom to make life choices  Generosity  \\\n",
       "Ladder score                                      0.607753   -0.017799   \n",
       "Social support                                    0.482930   -0.114946   \n",
       "Healthy life expectancy                           0.461494   -0.161750   \n",
       "Freedom to make life choices                      1.000000    0.169437   \n",
       "Generosity                                        0.169437    1.000000   \n",
       "Perceptions of corruption                        -0.401363   -0.163962   \n",
       "\n",
       "                              Perceptions of corruption  \n",
       "Ladder score                                  -0.421140  \n",
       "Social support                                -0.203207  \n",
       "Healthy life expectancy                       -0.364374  \n",
       "Freedom to make life choices                  -0.401363  \n",
       "Generosity                                    -0.163962  \n",
       "Perceptions of corruption                      1.000000  "
      ]
     },
     "execution_count": 564,
     "metadata": {},
     "output_type": "execute_result"
    }
   ],
   "source": [
    "cor"
   ]
  },
  {
   "cell_type": "markdown",
   "id": "8fdc50bf",
   "metadata": {},
   "source": [
    "Wyraźnie widać, że zmienna Generosity jest mało powiązana z resztą, niewielkie korelacje występują także w przypadku zmiennej dotyczącej korupcji."
   ]
  },
  {
   "cell_type": "code",
   "execution_count": 565,
   "id": "55217cbe",
   "metadata": {},
   "outputs": [],
   "source": [
    "data['Ladder score 2']=data['Ladder score']\n",
    "data.loc[data['Ladder score 2'] < 6, 'Ladder score 2'] = 0\n",
    "data.loc[data['Ladder score 2'] >= 6, 'Ladder score 2'] = 1"
   ]
  },
  {
   "cell_type": "markdown",
   "id": "5b955048",
   "metadata": {},
   "source": [
    "<h3>K-means</h3>"
   ]
  },
  {
   "cell_type": "markdown",
   "id": "7d52e1da",
   "metadata": {},
   "source": [
    "<p>Metoda k-średnich jest metodą należącą do grupy algorytmów analizy skupień tj. analizy polegającej na szukaniu i wyodrębnianiu grup obiektów podobnych (skupień) . Reprezentuje ona grupę algorytmów niehierarchicznych. Główną różnicą pomiędzy niehierarchicznymi i hierarchicznymi algorytmami jest konieczność wcześniejszego podania ilości skupień.\n",
    "Przy pomocy metody k-średnich zostanie utworzonych k różnych możliwie odmiennych skupień. Algorytm ten polega na przenoszeniu obiektów ze skupienia do skupienia tak długo aż zostaną zoptymalizowane zmienności wewnątrz skupień oraz pomiędzy skupieniami. Oczywistym jest, iż podobieństwo w skupieniu powinno być jak największe, zaś osobne skupienia powinny się maksymalnie od siebie różnić.\n",
    "</p>"
   ]
  },
  {
   "cell_type": "markdown",
   "id": "b34d27f5",
   "metadata": {},
   "source": [
    "<b>Zasada działania algorytmu jest następująca:</b><br><br>\n",
    "<b>Ustalamy liczbę skupień.</b><br>\n",
    "Jedną z metod ustalenia ilości skupień jest umowny jej wybór i ewentualna późniejsza zmiana tej liczby w celu uzyskania lepszych wyników. Wybór liczby skupień może być oparty również na wynikach innych analiz.\n",
    "<br><b>Ustalamy wstępne środki skupień.</b><br>\n",
    "Środki skupień tak zwane centroidy możemy dobrać na kilka sposobów: losowy wybór k obserwacji, wybór k pierwszych obserwacji, dobór w taki sposób, aby zmaksymalizować odległości skupień. Jedną z najczęściej stosowanych metod jest kilkakrotne uruchomienie algorytmu i wybór najlepszego modelu, gdy wstępnie środki skupień były wybierane losowo.\n",
    "<br><b>Obliczamy odległości obiektów od środków skupień.</b><br>\n",
    "Wybór metryki jest bardzo istotnym etapem w algorytmie. Wpływa ona na to, które z obserwacji będą uważane za podobne, a które za zbyt różniące się od siebie. Najczęściej stosowaną odległością jest odległość euklidesowa. Stosuje się również kwadrat tej odległości czy też odległość Czebyszewa.\n",
    "<br><b>Przypisujemy obiekty do skupień</b><br>\n",
    "Dla danej obserwacji porównujemy odległości od wszystkich skupień i przypisujemy ją do skupienia, do którego środka ma najbliżej.\n",
    "<br><b>Ustalamy nowe środki skupień</b><br>\n",
    "Najczęściej nowym środkiem skupienia jest punkt, którego współrzędne są średnią arytmetyczną współrzędnych punktów należących do danego skupienia.\n",
    "Wykonujemy kroki 3,4,5 do czasu, aż warunek zatrzymania zostanie spełniony.\n",
    "Najczęściej stosowanym warunkiem stopu jest ilość iteracji zadana na początku lub brak przesunięć obiektów pomiędzy skupieniami.\n"
   ]
  },
  {
   "cell_type": "markdown",
   "id": "0a6474b2",
   "metadata": {},
   "source": [
    "\n",
    "<b>Zalety algorytmu k-średnich:</b><br><br>\n",
    "<ul><li>niska złożoność, a co za tym idzie wysoka wydajność działania</li>\n",
    "<li>przy dużych zbiorach i niskich ilościach grupa algorytm ten będzie zdecydowanie szybszy niż pozostałe algorytmy tej klasy</li>\n",
    "    <li>pogrupowane zbiory są z reguły bardziej ciaśniejsze i zbite</li></ul>\n",
    "\n",
    "  <b>Wady algorytmu k-średnich:</b><br><br>\n",
    "\n",
    "<ul><li>nie pomaga w określeniu ilości grup (K)</li><li>\n",
    "różne wartości początkowe prowadzą do różnych wyników</li><li>\n",
    "    działa dobrze tylko dla „sferycznych” skupisk o jednorodnej gęstości</li></ul>\n"
   ]
  },
  {
   "cell_type": "markdown",
   "id": "e753e224",
   "metadata": {},
   "source": [
    "Standaryzujemy dane - jest to konieczne do uzyskania miarodajnych wyników w ramach analizy skupień."
   ]
  },
  {
   "cell_type": "code",
   "execution_count": 566,
   "id": "dfe0c457",
   "metadata": {},
   "outputs": [],
   "source": [
    "x = data.loc[:, features].values\n",
    "x_scaler = StandardScaler().fit_transform(x)"
   ]
  },
  {
   "cell_type": "markdown",
   "id": "33339397",
   "metadata": {},
   "source": [
    "Przyjmujemy arbitralnie 2 klastry, co pozwoli nam na imitację klasyfikatora - nie jest to idealne rozwiązane, jako że algorytm k-średnich nie został do tego stworzony, jednak pozwoli na porównanie tej motody z typowymi klasyfikatorami."
   ]
  },
  {
   "cell_type": "code",
   "execution_count": 567,
   "id": "856ab743",
   "metadata": {},
   "outputs": [
    {
     "name": "stdout",
     "output_type": "stream",
     "text": [
      "[[ 7.10725490e-01  5.69885294e+01  7.31117647e-01  3.75098039e-02\n",
      "   7.73784314e-01]\n",
      " [ 8.68877551e-01  6.91582857e+01  8.23071429e-01 -4.25306122e-02\n",
      "   7.03336735e-01]]\n"
     ]
    }
   ],
   "source": [
    "kmeans = KMeans(n_clusters=2).fit(data[features])\n",
    "centroids = kmeans.cluster_centers_\n",
    "print(centroids)\n",
    "label = kmeans.fit_predict(data[features])"
   ]
  },
  {
   "cell_type": "markdown",
   "id": "6511c020",
   "metadata": {},
   "source": [
    "Przypisujemy wyniki klasteryzacji do nowo utworzonej kolumny w celu późniejszego porównania."
   ]
  },
  {
   "cell_type": "code",
   "execution_count": 568,
   "id": "2e5a6543",
   "metadata": {},
   "outputs": [],
   "source": [
    "result=kmeans.labels_\n",
    "data['label_kmeans']=result"
   ]
  },
  {
   "cell_type": "code",
   "execution_count": 569,
   "id": "d95a57a5",
   "metadata": {},
   "outputs": [
    {
     "data": {
      "text/plain": [
       "60                 Philippines\n",
       "69                    Mongolia\n",
       "79                       Libya\n",
       "81                   Indonesia\n",
       "82         Congo (Brazzaville)\n",
       "84                 Ivory Coast\n",
       "90                    Cameroon\n",
       "91                     Senegal\n",
       "94                       Ghana\n",
       "95                       Niger\n",
       "96                Turkmenistan\n",
       "97                      Gambia\n",
       "98                       Benin\n",
       "99                        Laos\n",
       "101                     Guinea\n",
       "102               South Africa\n",
       "104                   Pakistan\n",
       "110                       Iraq\n",
       "111                      Gabon\n",
       "112               Burkina Faso\n",
       "113                   Cambodia\n",
       "114                 Mozambique\n",
       "115                    Nigeria\n",
       "116                       Mali\n",
       "118                     Uganda\n",
       "119                    Liberia\n",
       "120                      Kenya\n",
       "123                    Namibia\n",
       "124    Palestinian Territories\n",
       "125                    Myanmar\n",
       "127                       Chad\n",
       "129                  Swaziland\n",
       "130                    Comoros\n",
       "131                      Egypt\n",
       "132                   Ethiopia\n",
       "133                 Mauritania\n",
       "134                 Madagascar\n",
       "135                       Togo\n",
       "136                     Zambia\n",
       "137               Sierra Leone\n",
       "138                      India\n",
       "139                    Burundi\n",
       "140                      Yemen\n",
       "141                   Tanzania\n",
       "142                      Haiti\n",
       "143                     Malawi\n",
       "144                    Lesotho\n",
       "145                   Botswana\n",
       "146                     Rwanda\n",
       "147                   Zimbabwe\n",
       "148                Afghanistan\n",
       "Name: Country name, dtype: object"
      ]
     },
     "execution_count": 569,
     "metadata": {},
     "output_type": "execute_result"
    }
   ],
   "source": [
    "data[data['label_kmeans']==1]['Country name'].head(60)\n",
    "#print(data[data['label_kmeans']==1]['Country name'])"
   ]
  },
  {
   "cell_type": "code",
   "execution_count": 570,
   "id": "55c35c14",
   "metadata": {
    "scrolled": false
   },
   "outputs": [],
   "source": [
    "for i in range(0):\n",
    "    print('Cluster',i)\n",
    "    print(data[data['label_kmeans']==i]['Country name'])"
   ]
  },
  {
   "cell_type": "markdown",
   "id": "3488e88e",
   "metadata": {},
   "source": [
    "Macierz pomyłek dla algorytmu:"
   ]
  },
  {
   "cell_type": "code",
   "execution_count": 571,
   "id": "9e852a4f",
   "metadata": {},
   "outputs": [
    {
     "data": {
      "text/plain": [
       "array([[46, 51],\n",
       "       [52,  0]], dtype=int64)"
      ]
     },
     "execution_count": 571,
     "metadata": {},
     "output_type": "execute_result"
    }
   ],
   "source": [
    "confusion_matrix(data['Ladder score 2'],data['label_kmeans'])"
   ]
  },
  {
   "cell_type": "markdown",
   "id": "3686f7e0",
   "metadata": {},
   "source": [
    "Algorytm jest zbyt łagodny -zbyt łatwo przyporządkowuje obserwacje do klastra, w którym znajdują się kraje bogate."
   ]
  },
  {
   "cell_type": "markdown",
   "id": "e3bd8709",
   "metadata": {},
   "source": [
    "Wyniki precyzji, czułości, F-score dla obu klastrów prezentują się następująco:"
   ]
  },
  {
   "cell_type": "code",
   "execution_count": 572,
   "id": "29a1ece0",
   "metadata": {},
   "outputs": [
    {
     "data": {
      "text/plain": [
       "(array([0.46938776, 0.        ]),\n",
       " array([0.4742268, 0.       ]),\n",
       " array([0.47179487, 0.        ]),\n",
       " array([97, 52], dtype=int64))"
      ]
     },
     "execution_count": 572,
     "metadata": {},
     "output_type": "execute_result"
    }
   ],
   "source": [
    "precision_recall_fscore_support(data['Ladder score 2'],data['label_kmeans'])"
   ]
  },
  {
   "cell_type": "code",
   "execution_count": 573,
   "id": "cebfb0ca",
   "metadata": {
    "scrolled": false
   },
   "outputs": [
    {
     "data": {
      "text/plain": [
       "<mpl_toolkits.mplot3d.art3d.Path3DCollection at 0x2490b24b808>"
      ]
     },
     "execution_count": 573,
     "metadata": {},
     "output_type": "execute_result"
    },
    {
     "data": {
      "image/png": "[encoded data removed]",
      "text/plain": [
       "<Figure size 864x648 with 1 Axes>"
      ]
     },
     "metadata": {
      "needs_background": "light"
     },
     "output_type": "display_data"
    }
   ],
   "source": [
    "fig = plt.figure(figsize=(12, 9))\n",
    "ax = Axes3D(fig)\n",
    "cb = ax.scatter(x[:,0],x[:,1],x[:,2], c=label,s=70, alpha=0.6)\n",
    "\n",
    "plt.scatter(centroids[:, 0], centroids[:, 1], c='red', s=50)"
   ]
  },
  {
   "cell_type": "markdown",
   "id": "f2b98aee",
   "metadata": {},
   "source": [
    "<h3>RANDOM FOREST</h3>"
   ]
  },
  {
   "cell_type": "markdown",
   "id": "929a8f6b",
   "metadata": {},
   "source": [
    "<p><b>Las losowy</b> (ang. random forest) to metoda uczenia maszynowego dla klasyfikacji, regresji. Zbudowany jest z wielu klasyfikatorów (drzew decyzyjnych) - stąd nazwa “las”. Każde drzewo budowane na innym, losowo wybranym podzbiorze zbioru danych uczących. Działanie lasów losowych polega na klasyfikacji za pomocą grupy drzew decyzyjnych. Końcowa decyzja jest podejmowana w wyniku ´ głosowania większościowego nad klasami wskazanymi przez poszczególne drzewa decyzyjne.</p>\n"
   ]
  },
  {
   "cell_type": "markdown",
   "id": "85fd5b4b",
   "metadata": {},
   "source": [
    "<b>Najważniejszymi zaletami lasu losowego są:</b><br><br>\n",
    "<ul><li>Odporność na rozmaite problemy związane z danymi. Mamy tutaj na myśli brak danych, zmienne objaśniające bez znaczenia, dużą liczbę zmiennych objaśniających czy wartości odstające.</li><li>\n",
    "Możliwość dokładniejszego odtworzenia złożonych zależności niż byłyby to w stanie zrobić drzewa decyzyjne. Warto tutaj wspomnieć, że siła predykcyjna lasu losowego jest zazwyczaj nieco mniejsza, ale wciąż porównywalna z sieciami neuronowymi.</li><li>\n",
    "Odporność na przeuczenie.</li><li>\n",
    "Stabilność.</li><li>\n",
    "Możliwość interakcji pomiędzy zmiennymi.</li><li>\n",
    "Możliwość określenia różnych kosztów błędnych klasyfikacji.</li></ul>\n"
   ]
  },
  {
   "cell_type": "markdown",
   "id": "618507ea",
   "metadata": {},
   "source": [
    "30% obserwacji przyporządkowujemy do zbioru uczącego, 70% do zbioru testowego."
   ]
  },
  {
   "cell_type": "code",
   "execution_count": 574,
   "id": "1ea13ecc",
   "metadata": {},
   "outputs": [],
   "source": [
    "X_train, X_test, y_train, y_test = train_test_split(data, data['Ladder score 2'], test_size = 0.3, random_state=457)"
   ]
  },
  {
   "cell_type": "code",
   "execution_count": 575,
   "id": "67c06e8d",
   "metadata": {},
   "outputs": [],
   "source": [
    "rf = RandomForestClassifier(n_estimators=100, criterion='gini')"
   ]
  },
  {
   "cell_type": "code",
   "execution_count": 576,
   "id": "bec3de3d",
   "metadata": {},
   "outputs": [],
   "source": [
    "rf_fitted = rf.fit(X_train[features], y_train)"
   ]
  },
  {
   "cell_type": "code",
   "execution_count": 577,
   "id": "7c375621",
   "metadata": {
    "scrolled": true
   },
   "outputs": [
    {
     "data": {
      "text/plain": [
       "0.9333333333333333"
      ]
     },
     "execution_count": 577,
     "metadata": {},
     "output_type": "execute_result"
    }
   ],
   "source": [
    "rf_fitted.score(X_test[features],y_test)"
   ]
  },
  {
   "cell_type": "markdown",
   "id": "df71d48e",
   "metadata": {},
   "source": [
    "Skuteczność modelu lasu losowego na danych uczących jest na poziomie 91,1%."
   ]
  },
  {
   "cell_type": "code",
   "execution_count": 578,
   "id": "d52a4cf6",
   "metadata": {},
   "outputs": [],
   "source": [
    "rf_predict=rf.predict(X_test[features])"
   ]
  },
  {
   "cell_type": "markdown",
   "id": "552c7d6d",
   "metadata": {},
   "source": [
    "Precyzja, czułość i F score są bardziej wyrównane niż było to w przypadku metody k-średnich."
   ]
  },
  {
   "cell_type": "code",
   "execution_count": 579,
   "id": "fc5caa0f",
   "metadata": {},
   "outputs": [
    {
     "data": {
      "text/plain": [
       "(array([0.96875   , 0.84615385]),\n",
       " array([0.93939394, 0.91666667]),\n",
       " array([0.95384615, 0.88      ]),\n",
       " array([33, 12], dtype=int64))"
      ]
     },
     "execution_count": 579,
     "metadata": {},
     "output_type": "execute_result"
    }
   ],
   "source": [
    "precision_recall_fscore_support(y_test,rf_predict)"
   ]
  },
  {
   "cell_type": "markdown",
   "id": "4863def8",
   "metadata": {},
   "source": [
    "Macierz pomyłek:"
   ]
  },
  {
   "cell_type": "code",
   "execution_count": 580,
   "id": "ed30ead6",
   "metadata": {},
   "outputs": [
    {
     "data": {
      "text/plain": [
       "array([[31,  2],\n",
       "       [ 1, 11]], dtype=int64)"
      ]
     },
     "execution_count": 580,
     "metadata": {},
     "output_type": "execute_result"
    }
   ],
   "source": [
    "confusion_matrix(y_test,rf_predict)"
   ]
  },
  {
   "cell_type": "markdown",
   "id": "dcfc7d36",
   "metadata": {},
   "source": [
    "<h3>BOOSTING TREES</h3>"
   ]
  },
  {
   "cell_type": "markdown",
   "id": "3d0ee662",
   "metadata": {},
   "source": [
    "<p><b>Gradient Boosting</b> to technika uczenia maszynowego do regresji, klasyfikacji i innych zadań, która tworzy model predykcyjny w postaci zestawu słabych modeli predykcyjnych, zazwyczaj drzew decyzyjnych. Gdy drzewo decyzyjne jest słabym uczniem, otrzymany algorytm nazywa się drzewami wzmacnianymi gradientem, które zwykle przewyższają las losowy. Buduje model w sposób etapowy, tak jak robią to inne metody wzmacniające, i uogólnia je, umożliwiając optymalizację dowolnej różniczkowalnej funkcji straty.</p>\n"
   ]
  },
  {
   "cell_type": "markdown",
   "id": "1596b8b9",
   "metadata": {},
   "source": [
    "Algorytm Boosting Trees rozwinął się z zastosowania metod wzmacniania do drzew regresyjnych. Główną ideą jest tworzenie ciągu (bardzo) prostych drzew, z których każde kolejne jest zbudowane do predykcji reszt generowanych przez poprzednie. Metoda buduje drzewa binarne, tzn. dzieli dane na dwie próby w każdym węźle podziału. Przypuśćmy, że mamy ograniczyć złożoność drzew do 3 węzłów (w rzeczywistości użytkownik może ustalać jaka ma być złożoność): tzn. drzewo składa się z korzenia i dwóch potomków czyli jest tylko jeden podział. W kolejnych krokach wzmacniania (algorytmu wzmacniania drzew) określany jest pojedynczy (najlepszy) podział danych i obliczane są odchyłki wartości obserwowanych od średnich (reszty w każdym podziale). Kolejne drzewo o trzech węzłach jest dopasowywane do tych reszt i wyznacza kolejny podział, który jest dopasowywany do tych reszt i wyznacza kolejny podział, przy którym wariancja reszt (czyli błąd) jest jeszcze mniejsza (dla danego wcześniej ciągu drzew).\n"
   ]
  },
  {
   "cell_type": "markdown",
   "id": "42645d5a",
   "metadata": {},
   "source": [
    "<b>Zalety</b><br><br>\n",
    "Jest to uogólniony algorytm, który działa dla każdej różniczkowalnej funkcji straty.\n",
    "Często zapewnia wyniki predykcyjne, które są znacznie lepsze niż inne algorytmy\n",
    "Potrafi obsłużyć brakujące dane - imputacja nie jest wymagana. Ta metoda jest wrażliwa na wartości odstające . Wartości odstające będą miały znacznie większe wartości resztowe niż wartości inne niż wartości odstające, więc wzmocnienie gradientu skupi nieproporcjonalną część uwagi na tych punktach. Wykorzystanie średniego błędu bezwzględnego (MAE) do obliczenia błędu zamiast średniego błędu kwadratowego (MSE) może pomóc zmniejszyć wpływ tych wartości odstających, ponieważ ta ostatnia daje większą wagę większym różnicom. Parametr „kryterium” pomaga wybrać tę funkcję.\n",
    "Jest podatny na nadmierne dopasowanie, jeśli liczba drzew jest zbyt duża. Parametr „n_estimators” może pomóc określić dobry punkt do zatrzymania, zanim nasz model zacznie nadmiernie dopasowywać\n",
    "Obliczenia mogą zająć dużo czasu. Dlatego też, jeśli pracujesz z dużym zbiorem danych, zawsze pamiętaj o pobraniu próbki zbioru danych (zachowując taki sam iloraz szans dla zmiennej docelowej) podczas uczenia modelu.\n"
   ]
  },
  {
   "cell_type": "code",
   "execution_count": 581,
   "id": "ae3b55d0",
   "metadata": {},
   "outputs": [],
   "source": [
    "gb = GradientBoostingClassifier(n_estimators=100, learning_rate=0.1, max_features=0.9, min_samples_leaf=5,\n",
    "                                              min_samples_split=6, random_state=419).fit(X_train[features], y_train)"
   ]
  },
  {
   "cell_type": "markdown",
   "id": "da84b174",
   "metadata": {},
   "source": [
    "Wyniki wzmocnienia gradientowego są na bardzo wysokim poziomie - skuteczność jest równa 97,7%."
   ]
  },
  {
   "cell_type": "code",
   "execution_count": 582,
   "id": "9621d0a4",
   "metadata": {},
   "outputs": [
    {
     "data": {
      "text/plain": [
       "0.9777777777777777"
      ]
     },
     "execution_count": 582,
     "metadata": {},
     "output_type": "execute_result"
    }
   ],
   "source": [
    "gb.score(X_test[features],y_test)"
   ]
  },
  {
   "cell_type": "code",
   "execution_count": 583,
   "id": "9788c796",
   "metadata": {},
   "outputs": [],
   "source": [
    "gb_predict=gb.predict(X_test[features])"
   ]
  },
  {
   "cell_type": "markdown",
   "id": "4b4ceffe",
   "metadata": {},
   "source": [
    "Dla obu klas, wszystkie parametry wynoszą powyżej 90%."
   ]
  },
  {
   "cell_type": "code",
   "execution_count": 584,
   "id": "296f8693",
   "metadata": {},
   "outputs": [
    {
     "data": {
      "text/plain": [
       "(array([1.        , 0.92307692]),\n",
       " array([0.96969697, 1.        ]),\n",
       " array([0.98461538, 0.96      ]),\n",
       " array([33, 12], dtype=int64))"
      ]
     },
     "execution_count": 584,
     "metadata": {},
     "output_type": "execute_result"
    }
   ],
   "source": [
    "precision_recall_fscore_support(y_test,gb_predict)"
   ]
  },
  {
   "cell_type": "markdown",
   "id": "bed8ba08",
   "metadata": {},
   "source": [
    "Macierz pomyłek:"
   ]
  },
  {
   "cell_type": "code",
   "execution_count": 585,
   "id": "b47c7a98",
   "metadata": {},
   "outputs": [
    {
     "data": {
      "text/plain": [
       "array([[32,  1],\n",
       "       [ 0, 12]], dtype=int64)"
      ]
     },
     "execution_count": 585,
     "metadata": {},
     "output_type": "execute_result"
    }
   ],
   "source": [
    "confusion_matrix(y_test,gb_predict)"
   ]
  },
  {
   "cell_type": "markdown",
   "id": "76ba2653",
   "metadata": {},
   "source": [
    "<h3>Linear Dyscriminant Analysis</h3>"
   ]
  },
  {
   "cell_type": "markdown",
   "id": "da2132c5",
   "metadata": {},
   "source": [
    "<b>Liniowa Analiza Dyskryminacyjna</b> (ang. Linear Discriminant Analysys, LDA) jest jedną z metod klasyfikacji danych. Należy do metod statystycznych, dokonuje podziału na obszary graniczne funkcjami liniowymi. Używana w uczeniu maszynowym do znalezienia liniowej kombinacji cech, które najlepiej rozróżniają dwie lub więcej klas obiektów lub zdarzeń. Wynikowe kombinacje są używane jako klasyfikator liniowy lub, częściej, służą redukcji wymiarów do późniejszej klasyfikacji statystycznej.\n",
    "Liniowa analiza dyskryminacyjna zakłada, że funkcje gęstości prawdopodobieństwa w klasach ´ k = 1, 2 maj ˛a D-wymiarowe rozkłady normalne N (µk , Σ) o równych macierzach kowariancji w klasach. Można więc powiedzieć, że LDA jest równoważne FLD (liniowy dyskryminator Fishera) przy dodatkowych założeniach, ˙ że rozkłady w klasach są gaussowskie i macierze kowariancji w klasach są równe\n",
    "Σ = Σ1 = Σ2. "
   ]
  },
  {
   "cell_type": "code",
   "execution_count": 586,
   "id": "a961d024",
   "metadata": {},
   "outputs": [],
   "source": [
    "lda=LDA(solver='svd').fit(X_train[features], y_train)"
   ]
  },
  {
   "cell_type": "markdown",
   "id": "47494461",
   "metadata": {},
   "source": [
    "Skuteczność LDA kształtuje się na poziomie 93,3%."
   ]
  },
  {
   "cell_type": "code",
   "execution_count": 587,
   "id": "656b71c0",
   "metadata": {},
   "outputs": [
    {
     "data": {
      "text/plain": [
       "0.9333333333333333"
      ]
     },
     "execution_count": 587,
     "metadata": {},
     "output_type": "execute_result"
    }
   ],
   "source": [
    "lda_score=lda.score(X_test[features],y_test)\n",
    "lda_score"
   ]
  },
  {
   "cell_type": "code",
   "execution_count": 588,
   "id": "82ccf841",
   "metadata": {},
   "outputs": [],
   "source": [
    "lda_predict=lda.predict(X_test[features])"
   ]
  },
  {
   "cell_type": "markdown",
   "id": "b320d492",
   "metadata": {},
   "source": [
    "W przypadku LDA precyzja i F-score są nieco niższe dla klasy 1, oznaczającej kraje szczęśliwe."
   ]
  },
  {
   "cell_type": "code",
   "execution_count": 589,
   "id": "49b90d20",
   "metadata": {},
   "outputs": [
    {
     "data": {
      "text/plain": [
       "(array([0.96875   , 0.84615385]),\n",
       " array([0.93939394, 0.91666667]),\n",
       " array([0.95384615, 0.88      ]),\n",
       " array([33, 12], dtype=int64))"
      ]
     },
     "execution_count": 589,
     "metadata": {},
     "output_type": "execute_result"
    }
   ],
   "source": [
    "lda_stats=precision_recall_fscore_support(y_test,lda_predict)\n",
    "lda_stats"
   ]
  },
  {
   "cell_type": "code",
   "execution_count": 590,
   "id": "c34ed16a",
   "metadata": {},
   "outputs": [
    {
     "data": {
      "text/plain": [
       "array([[31,  2],\n",
       "       [ 1, 11]], dtype=int64)"
      ]
     },
     "execution_count": 590,
     "metadata": {},
     "output_type": "execute_result"
    }
   ],
   "source": [
    "confusion_matrix(y_test,lda_predict)"
   ]
  },
  {
   "cell_type": "code",
   "execution_count": 591,
   "id": "51f5db27",
   "metadata": {},
   "outputs": [],
   "source": [
    "y_test['rf_result']=rf_predict"
   ]
  },
  {
   "cell_type": "markdown",
   "id": "c3c84cd1",
   "metadata": {},
   "source": [
    "W następnym kroku porównamy skuteczność metod na pełnym datasecie."
   ]
  },
  {
   "cell_type": "code",
   "execution_count": 592,
   "id": "c4049f17",
   "metadata": {},
   "outputs": [
    {
     "data": {
      "text/plain": [
       "0.9798657718120806"
      ]
     },
     "execution_count": 592,
     "metadata": {},
     "output_type": "execute_result"
    }
   ],
   "source": [
    "rf_full_score=rf.score(data[features],data['Ladder score 2'])\n",
    "rf_full_score"
   ]
  },
  {
   "cell_type": "code",
   "execution_count": 593,
   "id": "38df7481",
   "metadata": {},
   "outputs": [],
   "source": [
    "rf_full_pred=rf.predict(data[features])"
   ]
  },
  {
   "cell_type": "code",
   "execution_count": 594,
   "id": "0a3f83ab",
   "metadata": {},
   "outputs": [],
   "source": [
    "rf_pred_pd=pd.DataFrame(rf_predict)"
   ]
  },
  {
   "cell_type": "code",
   "execution_count": 595,
   "id": "cdebc0f9",
   "metadata": {},
   "outputs": [
    {
     "data": {
      "text/plain": [
       "0.9932885906040269"
      ]
     },
     "execution_count": 595,
     "metadata": {},
     "output_type": "execute_result"
    }
   ],
   "source": [
    "gb_full_score=gb.score(data[features],data['Ladder score 2'])\n",
    "gb_full_score"
   ]
  },
  {
   "cell_type": "code",
   "execution_count": 596,
   "id": "36a1af62",
   "metadata": {},
   "outputs": [],
   "source": [
    "gb_full_pred=gb.predict(data[features])"
   ]
  },
  {
   "cell_type": "code",
   "execution_count": 597,
   "id": "a1fd4d4f",
   "metadata": {},
   "outputs": [
    {
     "data": {
      "text/plain": [
       "0.825503355704698"
      ]
     },
     "execution_count": 597,
     "metadata": {},
     "output_type": "execute_result"
    }
   ],
   "source": [
    "lda_full_score=lda.score(data[features],data['Ladder score 2'])\n",
    "lda_full_score"
   ]
  },
  {
   "cell_type": "code",
   "execution_count": 598,
   "id": "d29ddf50",
   "metadata": {},
   "outputs": [],
   "source": [
    "lda_full_pred=lda.predict(data[features])"
   ]
  },
  {
   "cell_type": "markdown",
   "id": "07634b2e",
   "metadata": {},
   "source": [
    "Jak można zauważyć, random forest oraz gradient boosting uzyskały niemal 100% skuteczność, podczas gdy LDA wypadło wyraźnie gorzej z niespełna 83%."
   ]
  },
  {
   "cell_type": "code",
   "execution_count": 599,
   "id": "65d207e7",
   "metadata": {},
   "outputs": [],
   "source": [
    "data['rf_result']=rf_full_pred"
   ]
  },
  {
   "cell_type": "code",
   "execution_count": 600,
   "id": "f06efd52",
   "metadata": {},
   "outputs": [],
   "source": [
    "data['gb_result']=gb_full_pred"
   ]
  },
  {
   "cell_type": "code",
   "execution_count": 601,
   "id": "0852a3e3",
   "metadata": {},
   "outputs": [],
   "source": [
    "data['lda_result']=lda_full_pred"
   ]
  },
  {
   "cell_type": "markdown",
   "id": "572d18cb",
   "metadata": {},
   "source": [
    "Prównujemy ilość niezgodnych pze stanem faktycznym predykcji dla poszczególnych modeli."
   ]
  },
  {
   "cell_type": "code",
   "execution_count": 602,
   "id": "ae713a93",
   "metadata": {},
   "outputs": [
    {
     "data": {
      "text/plain": [
       "103"
      ]
     },
     "execution_count": 602,
     "metadata": {},
     "output_type": "execute_result"
    }
   ],
   "source": [
    "#careful at this point - clusters are assigned randomly so it may show correct predictions as well as errors\n",
    "n_kmeans_errors = (data['label_kmeans'] != data['Ladder score 2']).sum()\n",
    "n_kmeans_errors"
   ]
  },
  {
   "cell_type": "code",
   "execution_count": 603,
   "id": "884b6c5b",
   "metadata": {},
   "outputs": [
    {
     "data": {
      "text/plain": [
       "3"
      ]
     },
     "execution_count": 603,
     "metadata": {},
     "output_type": "execute_result"
    }
   ],
   "source": [
    "n_rf_errors = (data['rf_result'] != data['Ladder score 2']).sum()\n",
    "n_rf_errors"
   ]
  },
  {
   "cell_type": "code",
   "execution_count": 604,
   "id": "fa30f2d0",
   "metadata": {},
   "outputs": [
    {
     "data": {
      "text/plain": [
       "1"
      ]
     },
     "execution_count": 604,
     "metadata": {},
     "output_type": "execute_result"
    }
   ],
   "source": [
    "n_gb_errors = (data['gb_result'] != data['Ladder score 2']).sum()\n",
    "n_gb_errors"
   ]
  },
  {
   "cell_type": "code",
   "execution_count": 605,
   "id": "13f73383",
   "metadata": {},
   "outputs": [
    {
     "data": {
      "text/plain": [
       "26"
      ]
     },
     "execution_count": 605,
     "metadata": {},
     "output_type": "execute_result"
    }
   ],
   "source": [
    "n_lda_errors = (data['lda_result'] != data['Ladder score 2']).sum()\n",
    "n_lda_errors"
   ]
  },
  {
   "cell_type": "markdown",
   "id": "8afa825e",
   "metadata": {},
   "source": [
    "Jak widzimy, najgorzej wypada algorytm k-średnich, najlepiej metody oparte na drzewach. Wyniki nie są zaskoczeniem - k-means nie jest algorytmem stworzonym do klasyfikacji, a klasteryzacji, stąd ciężko oczekiwać wysokiego poziomu predykcji - dodatkowo bolączką tego modelu okazała się niska czułość i przyporządkowanie zbyt wielu obserwacji do klastra z krajami szczęśliwymi. Liniowa analiza dyskryminacyjna to stosunkowo dobry algorytm, pozwalający na uzyskiwanie solidnych wyników kalsyfikacji, ustępuje jednak opartym na metodach bootstrapowych modelom lasów - random forest i gradient boostingowi. Oba te modele okazały się niemal bezbłędne, co pozwala z czystym sumieniem uznać je za najlepsze i godne polecenia w podobnych problemach."
   ]
  },
  {
   "cell_type": "code",
   "execution_count": null,
   "id": "74610670",
   "metadata": {},
   "outputs": [],
   "source": []
  }
 ],
 "metadata": {
  "kernelspec": {
   "display_name": "Python 3",
   "language": "python",
   "name": "python3"
  },
  "language_info": {
   "codemirror_mode": {
    "name": "ipython",
    "version": 3
   },
   "file_extension": ".py",
   "mimetype": "text/x-python",
   "name": "python",
   "nbconvert_exporter": "python",
   "pygments_lexer": "ipython3",
   "version": "3.7.4"
  }
 },
 "nbformat": 4,
 "nbformat_minor": 5
}
