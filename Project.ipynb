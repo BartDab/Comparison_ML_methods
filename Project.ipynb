{
 "cells": [
  {
   "cell_type": "markdown",
   "id": "db451fd2",
   "metadata": {},
   "source": [
    "<h3 align=\"center\"><b>AKADEMIA GÓRNICZO-HUTNICZA</b></h3>\n",
    "<h3 align=\"center\">im. Stanisława Staszica w Krakowie</h3>\n",
    "<br/><br/>\n",
    "<b><h3 align=\"center\">WYDZIAŁ ZARZĄDZANIA</h3></b>\n",
    "<br/><br/>\n",
    "<h3 align=\"center\"><img src=https://qa.agh.edu.pl/images/logos/logo-agh-simple.png></h3>\n",
    "<br/><br/>\n",
    "\n",
    "<h3 align=\"center\"><b>Metody pozyskiwania wiedzy z danych</b></h3><br/>\n",
    "<h3 align=\"center\">Porównanie działania wybranych algorytmów uczenia maszynowego w problemie\n",
    "klasyfikacji danych z raportu World Happiness Report 2021</h3>\n",
    "<br/><br/>\n",
    "\n",
    "Dąbrowski Bartosz<br/>\n",
    "Zientarska Patrycja<br/>\n",
    "Nasternak Magdalena<br/>\n",
    "\n",
    "Kierunek: Informatyka i Ekonometria<br/>\n",
    "Studia: II Stopnia, Stacjonarne"
   ]
  },
  {
   "cell_type": "code",
   "execution_count": 1,
   "id": "b93462ec",
   "metadata": {},
   "outputs": [],
   "source": [
    "import pandas as pd\n",
    "import numpy as np\n",
    "from sklearn.cluster import KMeans\n",
    "import seaborn as sns\n",
    "import matplotlib.pyplot as plt\n",
    "from sklearn.preprocessing import StandardScaler\n",
    "from mpl_toolkits.mplot3d import Axes3D\n",
    "from sklearn.ensemble import RandomForestClassifier\n",
    "from sklearn.ensemble import RandomForestRegressor\n",
    "from sklearn.model_selection import train_test_split\n",
    "from sklearn.ensemble import GradientBoostingClassifier\n",
    "from sklearn.ensemble import GradientBoostingRegressor\n",
    "from sklearn.discriminant_analysis import LinearDiscriminantAnalysis as LDA\n",
    "from sklearn.metrics import roc_curve, auc\n",
    "from sklearn.metrics import roc_auc_score\n",
    "from sklearn.metrics import precision_recall_fscore_support\n",
    "from sklearn.metrics import confusion_matrix\n",
    "from sklearn.tree import export_graphviz"
   ]
  },
  {
   "cell_type": "markdown",
   "id": "0cab149d",
   "metadata": {},
   "source": [
    "<b>World Happiness Report</b> to przełomowe badanie stanu globalnego szczęścia. Pierwszy raport został opublikowany w 2012 roku, drugi w 2013 roku, trzeci w 2015 roku, a czwarty w 2016 roku. World Happiness 2017, które klasyfikuje 149 krajów według ich poziomu szczęścia, zostało opublikowane w ONZ podczas wydarzenia z okazji Międzynarodowego Dnia Szczęścia 20 marca. Raport nadal zyskuje globalne uznanie, ponieważ rządy, organizacje i społeczeństwo obywatelskie coraz częściej wykorzystują wskaźniki szczęścia do podejmowania decyzji politycznych. Wiodący eksperci w różnych dziedzinach – ekonomia, psychologia, analiza ankiet, statystyka krajowa, zdrowie, polityka publiczna i inne – opisują, w jaki sposób pomiary dobrostanu mogą być skutecznie wykorzystywane do oceny postępów narodów. Raporty dokonują przeglądu stanu szczęścia we współczesnym świecie i pokazują, jak nowa nauka o szczęściu wyjaśnia osobiste i narodowe różnice w szczęściu."
   ]
  },
  {
   "cell_type": "code",
   "execution_count": 2,
   "id": "e488b6cd",
   "metadata": {},
   "outputs": [],
   "source": [
    "data = pd.read_csv(\"world-happiness-report-2021.csv\")"
   ]
  },
  {
   "cell_type": "code",
   "execution_count": 3,
   "id": "62c60df5",
   "metadata": {},
   "outputs": [
    {
     "data": {
      "text/html": [
       "<div>\n",
       "<style scoped>\n",
       "    .dataframe tbody tr th:only-of-type {\n",
       "        vertical-align: middle;\n",
       "    }\n",
       "\n",
       "    .dataframe tbody tr th {\n",
       "        vertical-align: top;\n",
       "    }\n",
       "\n",
       "    .dataframe thead th {\n",
       "        text-align: right;\n",
       "    }\n",
       "</style>\n",
       "<table border=\"1\" class=\"dataframe\">\n",
       "  <thead>\n",
       "    <tr style=\"text-align: right;\">\n",
       "      <th></th>\n",
       "      <th>Country name</th>\n",
       "      <th>Regional indicator</th>\n",
       "      <th>Ladder score</th>\n",
       "      <th>Standard error of ladder score</th>\n",
       "      <th>upperwhisker</th>\n",
       "      <th>lowerwhisker</th>\n",
       "      <th>Logged GDP per capita</th>\n",
       "      <th>Social support</th>\n",
       "      <th>Healthy life expectancy</th>\n",
       "      <th>Freedom to make life choices</th>\n",
       "      <th>Generosity</th>\n",
       "      <th>Perceptions of corruption</th>\n",
       "      <th>Ladder score in Dystopia</th>\n",
       "      <th>Explained by: Log GDP per capita</th>\n",
       "      <th>Explained by: Social support</th>\n",
       "      <th>Explained by: Healthy life expectancy</th>\n",
       "      <th>Explained by: Freedom to make life choices</th>\n",
       "      <th>Explained by: Generosity</th>\n",
       "      <th>Explained by: Perceptions of corruption</th>\n",
       "      <th>Dystopia + residual</th>\n",
       "    </tr>\n",
       "  </thead>\n",
       "  <tbody>\n",
       "    <tr>\n",
       "      <th>0</th>\n",
       "      <td>Finland</td>\n",
       "      <td>Western Europe</td>\n",
       "      <td>7.842</td>\n",
       "      <td>0.032</td>\n",
       "      <td>7.904</td>\n",
       "      <td>7.780</td>\n",
       "      <td>10.775</td>\n",
       "      <td>0.954</td>\n",
       "      <td>72.0</td>\n",
       "      <td>0.949</td>\n",
       "      <td>-0.098</td>\n",
       "      <td>0.186</td>\n",
       "      <td>2.43</td>\n",
       "      <td>1.446</td>\n",
       "      <td>1.106</td>\n",
       "      <td>0.741</td>\n",
       "      <td>0.691</td>\n",
       "      <td>0.124</td>\n",
       "      <td>0.481</td>\n",
       "      <td>3.253</td>\n",
       "    </tr>\n",
       "    <tr>\n",
       "      <th>1</th>\n",
       "      <td>Denmark</td>\n",
       "      <td>Western Europe</td>\n",
       "      <td>7.620</td>\n",
       "      <td>0.035</td>\n",
       "      <td>7.687</td>\n",
       "      <td>7.552</td>\n",
       "      <td>10.933</td>\n",
       "      <td>0.954</td>\n",
       "      <td>72.7</td>\n",
       "      <td>0.946</td>\n",
       "      <td>0.030</td>\n",
       "      <td>0.179</td>\n",
       "      <td>2.43</td>\n",
       "      <td>1.502</td>\n",
       "      <td>1.108</td>\n",
       "      <td>0.763</td>\n",
       "      <td>0.686</td>\n",
       "      <td>0.208</td>\n",
       "      <td>0.485</td>\n",
       "      <td>2.868</td>\n",
       "    </tr>\n",
       "    <tr>\n",
       "      <th>2</th>\n",
       "      <td>Switzerland</td>\n",
       "      <td>Western Europe</td>\n",
       "      <td>7.571</td>\n",
       "      <td>0.036</td>\n",
       "      <td>7.643</td>\n",
       "      <td>7.500</td>\n",
       "      <td>11.117</td>\n",
       "      <td>0.942</td>\n",
       "      <td>74.4</td>\n",
       "      <td>0.919</td>\n",
       "      <td>0.025</td>\n",
       "      <td>0.292</td>\n",
       "      <td>2.43</td>\n",
       "      <td>1.566</td>\n",
       "      <td>1.079</td>\n",
       "      <td>0.816</td>\n",
       "      <td>0.653</td>\n",
       "      <td>0.204</td>\n",
       "      <td>0.413</td>\n",
       "      <td>2.839</td>\n",
       "    </tr>\n",
       "    <tr>\n",
       "      <th>3</th>\n",
       "      <td>Iceland</td>\n",
       "      <td>Western Europe</td>\n",
       "      <td>7.554</td>\n",
       "      <td>0.059</td>\n",
       "      <td>7.670</td>\n",
       "      <td>7.438</td>\n",
       "      <td>10.878</td>\n",
       "      <td>0.983</td>\n",
       "      <td>73.0</td>\n",
       "      <td>0.955</td>\n",
       "      <td>0.160</td>\n",
       "      <td>0.673</td>\n",
       "      <td>2.43</td>\n",
       "      <td>1.482</td>\n",
       "      <td>1.172</td>\n",
       "      <td>0.772</td>\n",
       "      <td>0.698</td>\n",
       "      <td>0.293</td>\n",
       "      <td>0.170</td>\n",
       "      <td>2.967</td>\n",
       "    </tr>\n",
       "    <tr>\n",
       "      <th>4</th>\n",
       "      <td>Netherlands</td>\n",
       "      <td>Western Europe</td>\n",
       "      <td>7.464</td>\n",
       "      <td>0.027</td>\n",
       "      <td>7.518</td>\n",
       "      <td>7.410</td>\n",
       "      <td>10.932</td>\n",
       "      <td>0.942</td>\n",
       "      <td>72.4</td>\n",
       "      <td>0.913</td>\n",
       "      <td>0.175</td>\n",
       "      <td>0.338</td>\n",
       "      <td>2.43</td>\n",
       "      <td>1.501</td>\n",
       "      <td>1.079</td>\n",
       "      <td>0.753</td>\n",
       "      <td>0.647</td>\n",
       "      <td>0.302</td>\n",
       "      <td>0.384</td>\n",
       "      <td>2.798</td>\n",
       "    </tr>\n",
       "    <tr>\n",
       "      <th>5</th>\n",
       "      <td>Norway</td>\n",
       "      <td>Western Europe</td>\n",
       "      <td>7.392</td>\n",
       "      <td>0.035</td>\n",
       "      <td>7.462</td>\n",
       "      <td>7.323</td>\n",
       "      <td>11.053</td>\n",
       "      <td>0.954</td>\n",
       "      <td>73.3</td>\n",
       "      <td>0.960</td>\n",
       "      <td>0.093</td>\n",
       "      <td>0.270</td>\n",
       "      <td>2.43</td>\n",
       "      <td>1.543</td>\n",
       "      <td>1.108</td>\n",
       "      <td>0.782</td>\n",
       "      <td>0.703</td>\n",
       "      <td>0.249</td>\n",
       "      <td>0.427</td>\n",
       "      <td>2.580</td>\n",
       "    </tr>\n",
       "    <tr>\n",
       "      <th>6</th>\n",
       "      <td>Sweden</td>\n",
       "      <td>Western Europe</td>\n",
       "      <td>7.363</td>\n",
       "      <td>0.036</td>\n",
       "      <td>7.433</td>\n",
       "      <td>7.293</td>\n",
       "      <td>10.867</td>\n",
       "      <td>0.934</td>\n",
       "      <td>72.7</td>\n",
       "      <td>0.945</td>\n",
       "      <td>0.086</td>\n",
       "      <td>0.237</td>\n",
       "      <td>2.43</td>\n",
       "      <td>1.478</td>\n",
       "      <td>1.062</td>\n",
       "      <td>0.763</td>\n",
       "      <td>0.685</td>\n",
       "      <td>0.244</td>\n",
       "      <td>0.448</td>\n",
       "      <td>2.683</td>\n",
       "    </tr>\n",
       "    <tr>\n",
       "      <th>7</th>\n",
       "      <td>Luxembourg</td>\n",
       "      <td>Western Europe</td>\n",
       "      <td>7.324</td>\n",
       "      <td>0.037</td>\n",
       "      <td>7.396</td>\n",
       "      <td>7.252</td>\n",
       "      <td>11.647</td>\n",
       "      <td>0.908</td>\n",
       "      <td>72.6</td>\n",
       "      <td>0.907</td>\n",
       "      <td>-0.034</td>\n",
       "      <td>0.386</td>\n",
       "      <td>2.43</td>\n",
       "      <td>1.751</td>\n",
       "      <td>1.003</td>\n",
       "      <td>0.760</td>\n",
       "      <td>0.639</td>\n",
       "      <td>0.166</td>\n",
       "      <td>0.353</td>\n",
       "      <td>2.653</td>\n",
       "    </tr>\n",
       "    <tr>\n",
       "      <th>8</th>\n",
       "      <td>New Zealand</td>\n",
       "      <td>North America and ANZ</td>\n",
       "      <td>7.277</td>\n",
       "      <td>0.040</td>\n",
       "      <td>7.355</td>\n",
       "      <td>7.198</td>\n",
       "      <td>10.643</td>\n",
       "      <td>0.948</td>\n",
       "      <td>73.4</td>\n",
       "      <td>0.929</td>\n",
       "      <td>0.134</td>\n",
       "      <td>0.242</td>\n",
       "      <td>2.43</td>\n",
       "      <td>1.400</td>\n",
       "      <td>1.094</td>\n",
       "      <td>0.785</td>\n",
       "      <td>0.665</td>\n",
       "      <td>0.276</td>\n",
       "      <td>0.445</td>\n",
       "      <td>2.612</td>\n",
       "    </tr>\n",
       "    <tr>\n",
       "      <th>9</th>\n",
       "      <td>Austria</td>\n",
       "      <td>Western Europe</td>\n",
       "      <td>7.268</td>\n",
       "      <td>0.036</td>\n",
       "      <td>7.337</td>\n",
       "      <td>7.198</td>\n",
       "      <td>10.906</td>\n",
       "      <td>0.934</td>\n",
       "      <td>73.3</td>\n",
       "      <td>0.908</td>\n",
       "      <td>0.042</td>\n",
       "      <td>0.481</td>\n",
       "      <td>2.43</td>\n",
       "      <td>1.492</td>\n",
       "      <td>1.062</td>\n",
       "      <td>0.782</td>\n",
       "      <td>0.640</td>\n",
       "      <td>0.215</td>\n",
       "      <td>0.292</td>\n",
       "      <td>2.784</td>\n",
       "    </tr>\n",
       "  </tbody>\n",
       "</table>\n",
       "</div>"
      ],
      "text/plain": [
       "  Country name     Regional indicator  Ladder score  \\\n",
       "0      Finland         Western Europe         7.842   \n",
       "1      Denmark         Western Europe         7.620   \n",
       "2  Switzerland         Western Europe         7.571   \n",
       "3      Iceland         Western Europe         7.554   \n",
       "4  Netherlands         Western Europe         7.464   \n",
       "5       Norway         Western Europe         7.392   \n",
       "6       Sweden         Western Europe         7.363   \n",
       "7   Luxembourg         Western Europe         7.324   \n",
       "8  New Zealand  North America and ANZ         7.277   \n",
       "9      Austria         Western Europe         7.268   \n",
       "\n",
       "   Standard error of ladder score  upperwhisker  lowerwhisker  \\\n",
       "0                           0.032         7.904         7.780   \n",
       "1                           0.035         7.687         7.552   \n",
       "2                           0.036         7.643         7.500   \n",
       "3                           0.059         7.670         7.438   \n",
       "4                           0.027         7.518         7.410   \n",
       "5                           0.035         7.462         7.323   \n",
       "6                           0.036         7.433         7.293   \n",
       "7                           0.037         7.396         7.252   \n",
       "8                           0.040         7.355         7.198   \n",
       "9                           0.036         7.337         7.198   \n",
       "\n",
       "   Logged GDP per capita  Social support  Healthy life expectancy  \\\n",
       "0                 10.775           0.954                     72.0   \n",
       "1                 10.933           0.954                     72.7   \n",
       "2                 11.117           0.942                     74.4   \n",
       "3                 10.878           0.983                     73.0   \n",
       "4                 10.932           0.942                     72.4   \n",
       "5                 11.053           0.954                     73.3   \n",
       "6                 10.867           0.934                     72.7   \n",
       "7                 11.647           0.908                     72.6   \n",
       "8                 10.643           0.948                     73.4   \n",
       "9                 10.906           0.934                     73.3   \n",
       "\n",
       "   Freedom to make life choices  Generosity  Perceptions of corruption  \\\n",
       "0                         0.949      -0.098                      0.186   \n",
       "1                         0.946       0.030                      0.179   \n",
       "2                         0.919       0.025                      0.292   \n",
       "3                         0.955       0.160                      0.673   \n",
       "4                         0.913       0.175                      0.338   \n",
       "5                         0.960       0.093                      0.270   \n",
       "6                         0.945       0.086                      0.237   \n",
       "7                         0.907      -0.034                      0.386   \n",
       "8                         0.929       0.134                      0.242   \n",
       "9                         0.908       0.042                      0.481   \n",
       "\n",
       "   Ladder score in Dystopia  Explained by: Log GDP per capita  \\\n",
       "0                      2.43                             1.446   \n",
       "1                      2.43                             1.502   \n",
       "2                      2.43                             1.566   \n",
       "3                      2.43                             1.482   \n",
       "4                      2.43                             1.501   \n",
       "5                      2.43                             1.543   \n",
       "6                      2.43                             1.478   \n",
       "7                      2.43                             1.751   \n",
       "8                      2.43                             1.400   \n",
       "9                      2.43                             1.492   \n",
       "\n",
       "   Explained by: Social support  Explained by: Healthy life expectancy  \\\n",
       "0                         1.106                                  0.741   \n",
       "1                         1.108                                  0.763   \n",
       "2                         1.079                                  0.816   \n",
       "3                         1.172                                  0.772   \n",
       "4                         1.079                                  0.753   \n",
       "5                         1.108                                  0.782   \n",
       "6                         1.062                                  0.763   \n",
       "7                         1.003                                  0.760   \n",
       "8                         1.094                                  0.785   \n",
       "9                         1.062                                  0.782   \n",
       "\n",
       "   Explained by: Freedom to make life choices  Explained by: Generosity  \\\n",
       "0                                       0.691                     0.124   \n",
       "1                                       0.686                     0.208   \n",
       "2                                       0.653                     0.204   \n",
       "3                                       0.698                     0.293   \n",
       "4                                       0.647                     0.302   \n",
       "5                                       0.703                     0.249   \n",
       "6                                       0.685                     0.244   \n",
       "7                                       0.639                     0.166   \n",
       "8                                       0.665                     0.276   \n",
       "9                                       0.640                     0.215   \n",
       "\n",
       "   Explained by: Perceptions of corruption  Dystopia + residual  \n",
       "0                                    0.481                3.253  \n",
       "1                                    0.485                2.868  \n",
       "2                                    0.413                2.839  \n",
       "3                                    0.170                2.967  \n",
       "4                                    0.384                2.798  \n",
       "5                                    0.427                2.580  \n",
       "6                                    0.448                2.683  \n",
       "7                                    0.353                2.653  \n",
       "8                                    0.445                2.612  \n",
       "9                                    0.292                2.784  "
      ]
     },
     "execution_count": 3,
     "metadata": {},
     "output_type": "execute_result"
    }
   ],
   "source": [
    "data.head(10)"
   ]
  },
  {
   "cell_type": "code",
   "execution_count": 4,
   "id": "a3d59295",
   "metadata": {
    "scrolled": false
   },
   "outputs": [
    {
     "name": "stdout",
     "output_type": "stream",
     "text": [
      "<class 'pandas.core.frame.DataFrame'>\n",
      "RangeIndex: 149 entries, 0 to 148\n",
      "Data columns (total 20 columns):\n",
      " #   Column                                      Non-Null Count  Dtype  \n",
      "---  ------                                      --------------  -----  \n",
      " 0   Country name                                149 non-null    object \n",
      " 1   Regional indicator                          149 non-null    object \n",
      " 2   Ladder score                                149 non-null    float64\n",
      " 3   Standard error of ladder score              149 non-null    float64\n",
      " 4   upperwhisker                                149 non-null    float64\n",
      " 5   lowerwhisker                                149 non-null    float64\n",
      " 6   Logged GDP per capita                       149 non-null    float64\n",
      " 7   Social support                              149 non-null    float64\n",
      " 8   Healthy life expectancy                     149 non-null    float64\n",
      " 9   Freedom to make life choices                149 non-null    float64\n",
      " 10  Generosity                                  149 non-null    float64\n",
      " 11  Perceptions of corruption                   149 non-null    float64\n",
      " 12  Ladder score in Dystopia                    149 non-null    float64\n",
      " 13  Explained by: Log GDP per capita            149 non-null    float64\n",
      " 14  Explained by: Social support                149 non-null    float64\n",
      " 15  Explained by: Healthy life expectancy       149 non-null    float64\n",
      " 16  Explained by: Freedom to make life choices  149 non-null    float64\n",
      " 17  Explained by: Generosity                    149 non-null    float64\n",
      " 18  Explained by: Perceptions of corruption     149 non-null    float64\n",
      " 19  Dystopia + residual                         149 non-null    float64\n",
      "dtypes: float64(18), object(2)\n",
      "memory usage: 23.4+ KB\n"
     ]
    }
   ],
   "source": [
    "data.info()"
   ]
  },
  {
   "cell_type": "code",
   "execution_count": 5,
   "id": "aaa7366d",
   "metadata": {
    "scrolled": false
   },
   "outputs": [
    {
     "data": {
      "text/html": [
       "<div>\n",
       "<style scoped>\n",
       "    .dataframe tbody tr th:only-of-type {\n",
       "        vertical-align: middle;\n",
       "    }\n",
       "\n",
       "    .dataframe tbody tr th {\n",
       "        vertical-align: top;\n",
       "    }\n",
       "\n",
       "    .dataframe thead th {\n",
       "        text-align: right;\n",
       "    }\n",
       "</style>\n",
       "<table border=\"1\" class=\"dataframe\">\n",
       "  <thead>\n",
       "    <tr style=\"text-align: right;\">\n",
       "      <th></th>\n",
       "      <th>Ladder score</th>\n",
       "      <th>Standard error of ladder score</th>\n",
       "      <th>upperwhisker</th>\n",
       "      <th>lowerwhisker</th>\n",
       "      <th>Logged GDP per capita</th>\n",
       "      <th>Social support</th>\n",
       "      <th>Healthy life expectancy</th>\n",
       "      <th>Freedom to make life choices</th>\n",
       "      <th>Generosity</th>\n",
       "      <th>Perceptions of corruption</th>\n",
       "      <th>Ladder score in Dystopia</th>\n",
       "      <th>Explained by: Log GDP per capita</th>\n",
       "      <th>Explained by: Social support</th>\n",
       "      <th>Explained by: Healthy life expectancy</th>\n",
       "      <th>Explained by: Freedom to make life choices</th>\n",
       "      <th>Explained by: Generosity</th>\n",
       "      <th>Explained by: Perceptions of corruption</th>\n",
       "      <th>Dystopia + residual</th>\n",
       "    </tr>\n",
       "  </thead>\n",
       "  <tbody>\n",
       "    <tr>\n",
       "      <th>count</th>\n",
       "      <td>149.000000</td>\n",
       "      <td>149.000000</td>\n",
       "      <td>149.000000</td>\n",
       "      <td>149.000000</td>\n",
       "      <td>149.000000</td>\n",
       "      <td>149.000000</td>\n",
       "      <td>149.000000</td>\n",
       "      <td>149.000000</td>\n",
       "      <td>149.000000</td>\n",
       "      <td>149.000000</td>\n",
       "      <td>149.00</td>\n",
       "      <td>149.000000</td>\n",
       "      <td>149.000000</td>\n",
       "      <td>149.000000</td>\n",
       "      <td>149.000000</td>\n",
       "      <td>149.000000</td>\n",
       "      <td>149.000000</td>\n",
       "      <td>149.000000</td>\n",
       "    </tr>\n",
       "    <tr>\n",
       "      <th>mean</th>\n",
       "      <td>5.532839</td>\n",
       "      <td>0.058752</td>\n",
       "      <td>5.648007</td>\n",
       "      <td>5.417631</td>\n",
       "      <td>9.432208</td>\n",
       "      <td>0.814745</td>\n",
       "      <td>64.992799</td>\n",
       "      <td>0.791597</td>\n",
       "      <td>-0.015134</td>\n",
       "      <td>0.727450</td>\n",
       "      <td>2.43</td>\n",
       "      <td>0.977161</td>\n",
       "      <td>0.793315</td>\n",
       "      <td>0.520161</td>\n",
       "      <td>0.498711</td>\n",
       "      <td>0.178047</td>\n",
       "      <td>0.135141</td>\n",
       "      <td>2.430329</td>\n",
       "    </tr>\n",
       "    <tr>\n",
       "      <th>std</th>\n",
       "      <td>1.073924</td>\n",
       "      <td>0.022001</td>\n",
       "      <td>1.054330</td>\n",
       "      <td>1.094879</td>\n",
       "      <td>1.158601</td>\n",
       "      <td>0.114889</td>\n",
       "      <td>6.762043</td>\n",
       "      <td>0.113332</td>\n",
       "      <td>0.150657</td>\n",
       "      <td>0.179226</td>\n",
       "      <td>0.00</td>\n",
       "      <td>0.404740</td>\n",
       "      <td>0.258871</td>\n",
       "      <td>0.213019</td>\n",
       "      <td>0.137888</td>\n",
       "      <td>0.098270</td>\n",
       "      <td>0.114361</td>\n",
       "      <td>0.537645</td>\n",
       "    </tr>\n",
       "    <tr>\n",
       "      <th>min</th>\n",
       "      <td>2.523000</td>\n",
       "      <td>0.026000</td>\n",
       "      <td>2.596000</td>\n",
       "      <td>2.449000</td>\n",
       "      <td>6.635000</td>\n",
       "      <td>0.463000</td>\n",
       "      <td>48.478000</td>\n",
       "      <td>0.382000</td>\n",
       "      <td>-0.288000</td>\n",
       "      <td>0.082000</td>\n",
       "      <td>2.43</td>\n",
       "      <td>0.000000</td>\n",
       "      <td>0.000000</td>\n",
       "      <td>0.000000</td>\n",
       "      <td>0.000000</td>\n",
       "      <td>0.000000</td>\n",
       "      <td>0.000000</td>\n",
       "      <td>0.648000</td>\n",
       "    </tr>\n",
       "    <tr>\n",
       "      <th>25%</th>\n",
       "      <td>4.852000</td>\n",
       "      <td>0.043000</td>\n",
       "      <td>4.991000</td>\n",
       "      <td>4.706000</td>\n",
       "      <td>8.541000</td>\n",
       "      <td>0.750000</td>\n",
       "      <td>59.802000</td>\n",
       "      <td>0.718000</td>\n",
       "      <td>-0.126000</td>\n",
       "      <td>0.667000</td>\n",
       "      <td>2.43</td>\n",
       "      <td>0.666000</td>\n",
       "      <td>0.647000</td>\n",
       "      <td>0.357000</td>\n",
       "      <td>0.409000</td>\n",
       "      <td>0.105000</td>\n",
       "      <td>0.060000</td>\n",
       "      <td>2.138000</td>\n",
       "    </tr>\n",
       "    <tr>\n",
       "      <th>50%</th>\n",
       "      <td>5.534000</td>\n",
       "      <td>0.054000</td>\n",
       "      <td>5.625000</td>\n",
       "      <td>5.413000</td>\n",
       "      <td>9.569000</td>\n",
       "      <td>0.832000</td>\n",
       "      <td>66.603000</td>\n",
       "      <td>0.804000</td>\n",
       "      <td>-0.036000</td>\n",
       "      <td>0.781000</td>\n",
       "      <td>2.43</td>\n",
       "      <td>1.025000</td>\n",
       "      <td>0.832000</td>\n",
       "      <td>0.571000</td>\n",
       "      <td>0.514000</td>\n",
       "      <td>0.164000</td>\n",
       "      <td>0.101000</td>\n",
       "      <td>2.509000</td>\n",
       "    </tr>\n",
       "    <tr>\n",
       "      <th>75%</th>\n",
       "      <td>6.255000</td>\n",
       "      <td>0.070000</td>\n",
       "      <td>6.344000</td>\n",
       "      <td>6.128000</td>\n",
       "      <td>10.421000</td>\n",
       "      <td>0.905000</td>\n",
       "      <td>69.600000</td>\n",
       "      <td>0.877000</td>\n",
       "      <td>0.079000</td>\n",
       "      <td>0.845000</td>\n",
       "      <td>2.43</td>\n",
       "      <td>1.323000</td>\n",
       "      <td>0.996000</td>\n",
       "      <td>0.665000</td>\n",
       "      <td>0.603000</td>\n",
       "      <td>0.239000</td>\n",
       "      <td>0.174000</td>\n",
       "      <td>2.794000</td>\n",
       "    </tr>\n",
       "    <tr>\n",
       "      <th>max</th>\n",
       "      <td>7.842000</td>\n",
       "      <td>0.173000</td>\n",
       "      <td>7.904000</td>\n",
       "      <td>7.780000</td>\n",
       "      <td>11.647000</td>\n",
       "      <td>0.983000</td>\n",
       "      <td>76.953000</td>\n",
       "      <td>0.970000</td>\n",
       "      <td>0.542000</td>\n",
       "      <td>0.939000</td>\n",
       "      <td>2.43</td>\n",
       "      <td>1.751000</td>\n",
       "      <td>1.172000</td>\n",
       "      <td>0.897000</td>\n",
       "      <td>0.716000</td>\n",
       "      <td>0.541000</td>\n",
       "      <td>0.547000</td>\n",
       "      <td>3.482000</td>\n",
       "    </tr>\n",
       "  </tbody>\n",
       "</table>\n",
       "</div>"
      ],
      "text/plain": [
       "       Ladder score  Standard error of ladder score  upperwhisker  \\\n",
       "count    149.000000                      149.000000    149.000000   \n",
       "mean       5.532839                        0.058752      5.648007   \n",
       "std        1.073924                        0.022001      1.054330   \n",
       "min        2.523000                        0.026000      2.596000   \n",
       "25%        4.852000                        0.043000      4.991000   \n",
       "50%        5.534000                        0.054000      5.625000   \n",
       "75%        6.255000                        0.070000      6.344000   \n",
       "max        7.842000                        0.173000      7.904000   \n",
       "\n",
       "       lowerwhisker  Logged GDP per capita  Social support  \\\n",
       "count    149.000000             149.000000      149.000000   \n",
       "mean       5.417631               9.432208        0.814745   \n",
       "std        1.094879               1.158601        0.114889   \n",
       "min        2.449000               6.635000        0.463000   \n",
       "25%        4.706000               8.541000        0.750000   \n",
       "50%        5.413000               9.569000        0.832000   \n",
       "75%        6.128000              10.421000        0.905000   \n",
       "max        7.780000              11.647000        0.983000   \n",
       "\n",
       "       Healthy life expectancy  Freedom to make life choices  Generosity  \\\n",
       "count               149.000000                    149.000000  149.000000   \n",
       "mean                 64.992799                      0.791597   -0.015134   \n",
       "std                   6.762043                      0.113332    0.150657   \n",
       "min                  48.478000                      0.382000   -0.288000   \n",
       "25%                  59.802000                      0.718000   -0.126000   \n",
       "50%                  66.603000                      0.804000   -0.036000   \n",
       "75%                  69.600000                      0.877000    0.079000   \n",
       "max                  76.953000                      0.970000    0.542000   \n",
       "\n",
       "       Perceptions of corruption  Ladder score in Dystopia  \\\n",
       "count                 149.000000                    149.00   \n",
       "mean                    0.727450                      2.43   \n",
       "std                     0.179226                      0.00   \n",
       "min                     0.082000                      2.43   \n",
       "25%                     0.667000                      2.43   \n",
       "50%                     0.781000                      2.43   \n",
       "75%                     0.845000                      2.43   \n",
       "max                     0.939000                      2.43   \n",
       "\n",
       "       Explained by: Log GDP per capita  Explained by: Social support  \\\n",
       "count                        149.000000                    149.000000   \n",
       "mean                           0.977161                      0.793315   \n",
       "std                            0.404740                      0.258871   \n",
       "min                            0.000000                      0.000000   \n",
       "25%                            0.666000                      0.647000   \n",
       "50%                            1.025000                      0.832000   \n",
       "75%                            1.323000                      0.996000   \n",
       "max                            1.751000                      1.172000   \n",
       "\n",
       "       Explained by: Healthy life expectancy  \\\n",
       "count                             149.000000   \n",
       "mean                                0.520161   \n",
       "std                                 0.213019   \n",
       "min                                 0.000000   \n",
       "25%                                 0.357000   \n",
       "50%                                 0.571000   \n",
       "75%                                 0.665000   \n",
       "max                                 0.897000   \n",
       "\n",
       "       Explained by: Freedom to make life choices  Explained by: Generosity  \\\n",
       "count                                  149.000000                149.000000   \n",
       "mean                                     0.498711                  0.178047   \n",
       "std                                      0.137888                  0.098270   \n",
       "min                                      0.000000                  0.000000   \n",
       "25%                                      0.409000                  0.105000   \n",
       "50%                                      0.514000                  0.164000   \n",
       "75%                                      0.603000                  0.239000   \n",
       "max                                      0.716000                  0.541000   \n",
       "\n",
       "       Explained by: Perceptions of corruption  Dystopia + residual  \n",
       "count                               149.000000           149.000000  \n",
       "mean                                  0.135141             2.430329  \n",
       "std                                   0.114361             0.537645  \n",
       "min                                   0.000000             0.648000  \n",
       "25%                                   0.060000             2.138000  \n",
       "50%                                   0.101000             2.509000  \n",
       "75%                                   0.174000             2.794000  \n",
       "max                                   0.547000             3.482000  "
      ]
     },
     "execution_count": 5,
     "metadata": {},
     "output_type": "execute_result"
    }
   ],
   "source": [
    "data.describe()"
   ]
  },
  {
   "cell_type": "markdown",
   "id": "81131c73",
   "metadata": {},
   "source": [
    "Sprawdzamy występowanie obserwacji niepełnych."
   ]
  },
  {
   "cell_type": "code",
   "execution_count": 6,
   "id": "cf9f7971",
   "metadata": {},
   "outputs": [
    {
     "data": {
      "text/html": [
       "<div>\n",
       "<style scoped>\n",
       "    .dataframe tbody tr th:only-of-type {\n",
       "        vertical-align: middle;\n",
       "    }\n",
       "\n",
       "    .dataframe tbody tr th {\n",
       "        vertical-align: top;\n",
       "    }\n",
       "\n",
       "    .dataframe thead th {\n",
       "        text-align: right;\n",
       "    }\n",
       "</style>\n",
       "<table border=\"1\" class=\"dataframe\">\n",
       "  <thead>\n",
       "    <tr style=\"text-align: right;\">\n",
       "      <th></th>\n",
       "      <th>Country name</th>\n",
       "      <th>Regional indicator</th>\n",
       "      <th>Ladder score</th>\n",
       "      <th>Standard error of ladder score</th>\n",
       "      <th>upperwhisker</th>\n",
       "      <th>lowerwhisker</th>\n",
       "      <th>Logged GDP per capita</th>\n",
       "      <th>Social support</th>\n",
       "      <th>Healthy life expectancy</th>\n",
       "      <th>Freedom to make life choices</th>\n",
       "      <th>Generosity</th>\n",
       "      <th>Perceptions of corruption</th>\n",
       "      <th>Ladder score in Dystopia</th>\n",
       "      <th>Explained by: Log GDP per capita</th>\n",
       "      <th>Explained by: Social support</th>\n",
       "      <th>Explained by: Healthy life expectancy</th>\n",
       "      <th>Explained by: Freedom to make life choices</th>\n",
       "      <th>Explained by: Generosity</th>\n",
       "      <th>Explained by: Perceptions of corruption</th>\n",
       "      <th>Dystopia + residual</th>\n",
       "    </tr>\n",
       "  </thead>\n",
       "  <tbody>\n",
       "  </tbody>\n",
       "</table>\n",
       "</div>"
      ],
      "text/plain": [
       "Empty DataFrame\n",
       "Columns: [Country name, Regional indicator, Ladder score, Standard error of ladder score, upperwhisker, lowerwhisker, Logged GDP per capita, Social support, Healthy life expectancy, Freedom to make life choices, Generosity, Perceptions of corruption, Ladder score in Dystopia, Explained by: Log GDP per capita, Explained by: Social support, Explained by: Healthy life expectancy, Explained by: Freedom to make life choices, Explained by: Generosity, Explained by: Perceptions of corruption, Dystopia + residual]\n",
       "Index: []"
      ]
     },
     "execution_count": 6,
     "metadata": {},
     "output_type": "execute_result"
    }
   ],
   "source": [
    "data_na=data[data.isna().any(axis=1)]\n",
    "data_na"
   ]
  },
  {
   "cell_type": "markdown",
   "id": "df988d66",
   "metadata": {},
   "source": [
    "Szczęśliwie, w analizowanym zbiorze nie znalazły się takie przypadki - dane są kompletne i nie zawierają NA."
   ]
  },
  {
   "cell_type": "markdown",
   "id": "eec4e450",
   "metadata": {},
   "source": [
    "Do zmiennej features przypisujemy kolumny, które wykorzystamy jako zmienne objaśniające."
   ]
  },
  {
   "cell_type": "code",
   "execution_count": 7,
   "id": "98726ae7",
   "metadata": {},
   "outputs": [],
   "source": [
    "features=['Logged GDP per capita','Social support','Healthy life expectancy','Freedom to make life choices','Generosity','Perceptions of corruption']"
   ]
  },
  {
   "cell_type": "markdown",
   "id": "b945226e",
   "metadata": {},
   "source": [
    "Kolejnym krokiem jest sprawdzenie korelacji pomiędzy zmiennymi - w idealnym przypadku powinna być jak najwyższa ze zmienną objaśnianą, a jak najniższe pomiędzy zmiennymi objaśniającymi."
   ]
  },
  {
   "cell_type": "code",
   "execution_count": 8,
   "id": "7952bd03",
   "metadata": {},
   "outputs": [
    {
     "data": {
      "text/plain": [
       "<AxesSubplot:>"
      ]
     },
     "execution_count": 8,
     "metadata": {},
     "output_type": "execute_result"
    },
    {
     "data": {
      "image/png": "[encoded data removed]",
      "text/plain": [
       "<Figure size 576x576 with 2 Axes>"
      ]
     },
     "metadata": {
      "needs_background": "light"
     },
     "output_type": "display_data"
    }
   ],
   "source": [
    "cor=data.loc[:,['Ladder score', 'Social support','Healthy life expectancy','Freedom to make life choices','Generosity','Perceptions of corruption']]\n",
    "cor=data.loc[:,['Ladder score', 'Social support','Healthy life expectancy','Freedom to make life choices','Generosity','Perceptions of corruption']].corr()\n",
    "\n",
    "fig, ax = plt.subplots(figsize=(8,8))\n",
    "sns.heatmap(ax=ax, data=cor)"
   ]
  },
  {
   "cell_type": "code",
   "execution_count": 9,
   "id": "aa030a5f",
   "metadata": {
    "scrolled": false
   },
   "outputs": [
    {
     "data": {
      "text/html": [
       "<div>\n",
       "<style scoped>\n",
       "    .dataframe tbody tr th:only-of-type {\n",
       "        vertical-align: middle;\n",
       "    }\n",
       "\n",
       "    .dataframe tbody tr th {\n",
       "        vertical-align: top;\n",
       "    }\n",
       "\n",
       "    .dataframe thead th {\n",
       "        text-align: right;\n",
       "    }\n",
       "</style>\n",
       "<table border=\"1\" class=\"dataframe\">\n",
       "  <thead>\n",
       "    <tr style=\"text-align: right;\">\n",
       "      <th></th>\n",
       "      <th>Ladder score</th>\n",
       "      <th>Social support</th>\n",
       "      <th>Healthy life expectancy</th>\n",
       "      <th>Freedom to make life choices</th>\n",
       "      <th>Generosity</th>\n",
       "      <th>Perceptions of corruption</th>\n",
       "    </tr>\n",
       "  </thead>\n",
       "  <tbody>\n",
       "    <tr>\n",
       "      <th>Ladder score</th>\n",
       "      <td>1.000000</td>\n",
       "      <td>0.756888</td>\n",
       "      <td>0.768099</td>\n",
       "      <td>0.607753</td>\n",
       "      <td>-0.017799</td>\n",
       "      <td>-0.421140</td>\n",
       "    </tr>\n",
       "    <tr>\n",
       "      <th>Social support</th>\n",
       "      <td>0.756888</td>\n",
       "      <td>1.000000</td>\n",
       "      <td>0.723256</td>\n",
       "      <td>0.482930</td>\n",
       "      <td>-0.114946</td>\n",
       "      <td>-0.203207</td>\n",
       "    </tr>\n",
       "    <tr>\n",
       "      <th>Healthy life expectancy</th>\n",
       "      <td>0.768099</td>\n",
       "      <td>0.723256</td>\n",
       "      <td>1.000000</td>\n",
       "      <td>0.461494</td>\n",
       "      <td>-0.161750</td>\n",
       "      <td>-0.364374</td>\n",
       "    </tr>\n",
       "    <tr>\n",
       "      <th>Freedom to make life choices</th>\n",
       "      <td>0.607753</td>\n",
       "      <td>0.482930</td>\n",
       "      <td>0.461494</td>\n",
       "      <td>1.000000</td>\n",
       "      <td>0.169437</td>\n",
       "      <td>-0.401363</td>\n",
       "    </tr>\n",
       "    <tr>\n",
       "      <th>Generosity</th>\n",
       "      <td>-0.017799</td>\n",
       "      <td>-0.114946</td>\n",
       "      <td>-0.161750</td>\n",
       "      <td>0.169437</td>\n",
       "      <td>1.000000</td>\n",
       "      <td>-0.163962</td>\n",
       "    </tr>\n",
       "    <tr>\n",
       "      <th>Perceptions of corruption</th>\n",
       "      <td>-0.421140</td>\n",
       "      <td>-0.203207</td>\n",
       "      <td>-0.364374</td>\n",
       "      <td>-0.401363</td>\n",
       "      <td>-0.163962</td>\n",
       "      <td>1.000000</td>\n",
       "    </tr>\n",
       "  </tbody>\n",
       "</table>\n",
       "</div>"
      ],
      "text/plain": [
       "                              Ladder score  Social support  \\\n",
       "Ladder score                      1.000000        0.756888   \n",
       "Social support                    0.756888        1.000000   \n",
       "Healthy life expectancy           0.768099        0.723256   \n",
       "Freedom to make life choices      0.607753        0.482930   \n",
       "Generosity                       -0.017799       -0.114946   \n",
       "Perceptions of corruption        -0.421140       -0.203207   \n",
       "\n",
       "                              Healthy life expectancy  \\\n",
       "Ladder score                                 0.768099   \n",
       "Social support                               0.723256   \n",
       "Healthy life expectancy                      1.000000   \n",
       "Freedom to make life choices                 0.461494   \n",
       "Generosity                                  -0.161750   \n",
       "Perceptions of corruption                   -0.364374   \n",
       "\n",
       "                              Freedom to make life choices  Generosity  \\\n",
       "Ladder score                                      0.607753   -0.017799   \n",
       "Social support                                    0.482930   -0.114946   \n",
       "Healthy life expectancy                           0.461494   -0.161750   \n",
       "Freedom to make life choices                      1.000000    0.169437   \n",
       "Generosity                                        0.169437    1.000000   \n",
       "Perceptions of corruption                        -0.401363   -0.163962   \n",
       "\n",
       "                              Perceptions of corruption  \n",
       "Ladder score                                  -0.421140  \n",
       "Social support                                -0.203207  \n",
       "Healthy life expectancy                       -0.364374  \n",
       "Freedom to make life choices                  -0.401363  \n",
       "Generosity                                    -0.163962  \n",
       "Perceptions of corruption                      1.000000  "
      ]
     },
     "execution_count": 9,
     "metadata": {},
     "output_type": "execute_result"
    }
   ],
   "source": [
    "cor"
   ]
  },
  {
   "cell_type": "markdown",
   "id": "f93ac620",
   "metadata": {},
   "source": [
    "Wyraźnie widać, że zmienna Generosity jest mało powiązana z resztą, niewielkie korelacje występują także w przypadku zmiennej dotyczącej korupcji."
   ]
  },
  {
   "cell_type": "markdown",
   "id": "a4ab6962",
   "metadata": {},
   "source": [
    "W celu implementacji algorytmów klasyfikacyjnych zmienna 'Ladder score' została przekształcona w zmienną zero-jedynkową. Jako punkt graniczny uznajemy wartość 6."
   ]
  },
  {
   "cell_type": "code",
   "execution_count": 10,
   "id": "6e7e096c",
   "metadata": {},
   "outputs": [],
   "source": [
    "data['Ladder score 2']=data['Ladder score']\n",
    "data.loc[data['Ladder score 2'] < 5, 'Ladder score 2'] = 0\n",
    "data.loc[data['Ladder score 2'] >= 5, 'Ladder score 2'] = 1"
   ]
  },
  {
   "cell_type": "markdown",
   "id": "18866932",
   "metadata": {},
   "source": [
    "<h3>K-means</h3>"
   ]
  },
  {
   "cell_type": "markdown",
   "id": "577b77e9",
   "metadata": {},
   "source": [
    "<p>Metoda k-średnich jest metodą należącą do grupy algorytmów analizy skupień tj. analizy polegającej na szukaniu i wyodrębnianiu grup obiektów podobnych (skupień) . Reprezentuje ona grupę algorytmów niehierarchicznych. Główną różnicą pomiędzy niehierarchicznymi i hierarchicznymi algorytmami jest konieczność wcześniejszego podania ilości skupień.\n",
    "Przy pomocy metody k-średnich zostanie utworzonych k różnych możliwie odmiennych skupień. Algorytm ten polega na przenoszeniu obiektów ze skupienia do skupienia tak długo aż zostaną zoptymalizowane zmienności wewnątrz skupień oraz pomiędzy skupieniami. Oczywistym jest, iż podobieństwo w skupieniu powinno być jak największe, zaś osobne skupienia powinny się maksymalnie od siebie różnić.\n",
    "</p>"
   ]
  },
  {
   "cell_type": "markdown",
   "id": "00c65400",
   "metadata": {},
   "source": [
    "<b>Zasada działania algorytmu jest następująca:</b><br><br>\n",
    "<b>Ustalamy liczbę skupień.</b><br>\n",
    "Jedną z metod ustalenia ilości skupień jest umowny jej wybór i ewentualna późniejsza zmiana tej liczby w celu uzyskania lepszych wyników. Wybór liczby skupień może być oparty również na wynikach innych analiz.\n",
    "<br><b>Ustalamy wstępne środki skupień.</b><br>\n",
    "Środki skupień tak zwane centroidy możemy dobrać na kilka sposobów: losowy wybór k obserwacji, wybór k pierwszych obserwacji, dobór w taki sposób, aby zmaksymalizować odległości skupień. Jedną z najczęściej stosowanych metod jest kilkakrotne uruchomienie algorytmu i wybór najlepszego modelu, gdy wstępnie środki skupień były wybierane losowo.\n",
    "<br><b>Obliczamy odległości obiektów od środków skupień.</b><br>\n",
    "Wybór metryki jest bardzo istotnym etapem w algorytmie. Wpływa ona na to, które z obserwacji będą uważane za podobne, a które za zbyt różniące się od siebie. Najczęściej stosowaną odległością jest odległość euklidesowa. Stosuje się również kwadrat tej odległości czy też odległość Czebyszewa.\n",
    "<br><b>Przypisujemy obiekty do skupień</b><br>\n",
    "Dla danej obserwacji porównujemy odległości od wszystkich skupień i przypisujemy ją do skupienia, do którego środka ma najbliżej.\n",
    "<br><b>Ustalamy nowe środki skupień</b><br>\n",
    "Najczęściej nowym środkiem skupienia jest punkt, którego współrzędne są średnią arytmetyczną współrzędnych punktów należących do danego skupienia.\n",
    "Wykonujemy kroki 3,4,5 do czasu, aż warunek zatrzymania zostanie spełniony.\n",
    "Najczęściej stosowanym warunkiem stopu jest ilość iteracji zadana na początku lub brak przesunięć obiektów pomiędzy skupieniami.\n"
   ]
  },
  {
   "cell_type": "markdown",
   "id": "f032a8d0",
   "metadata": {},
   "source": [
    "\n",
    "<b>Zalety algorytmu k-średnich:</b><br><br>\n",
    "<ul><li>niska złożoność, a co za tym idzie wysoka wydajność działania</li>\n",
    "<li>przy dużych zbiorach i niskich ilościach grup algorytm ten będzie zdecydowanie szybszy niż pozostałe algorytmy tej klasy</li>\n",
    "    <li>pogrupowane zbiory są z reguły bardziej ciaśniejsze i zbite</li></ul>\n",
    "\n",
    "  <b>Wady algorytmu k-średnich:</b><br><br>\n",
    "\n",
    "<ul><li>nie pomaga w określeniu ilości grup (K)</li><li>\n",
    "różne wartości początkowe prowadzą do różnych wyników</li><li>\n",
    "    działa dobrze tylko dla „sferycznych” skupisk o jednorodnej gęstości</li></ul>\n"
   ]
  },
  {
   "cell_type": "markdown",
   "id": "5ceb7ce1",
   "metadata": {},
   "source": [
    "Standaryzujemy dane - jest to wskazane do uzyskania miarodajnych wyników w ramach analizy skupień."
   ]
  },
  {
   "cell_type": "code",
   "execution_count": 11,
   "id": "40c032f1",
   "metadata": {},
   "outputs": [],
   "source": [
    "x = data.loc[:, features].values\n",
    "x_scaler =StandardScaler().fit_transform(x) "
   ]
  },
  {
   "cell_type": "markdown",
   "id": "93a1c254",
   "metadata": {},
   "source": [
    "Przyjmujemy arbitralnie 2 klastry, co pozwoli nam na imitację klasyfikatora - nie jest to idealne rozwiązane, jako że algorytm k-średnich nie został do tego stworzony, jednak pozwoli na porównanie tej motody z typowymi klasyfikatorami."
   ]
  },
  {
   "cell_type": "code",
   "execution_count": 12,
   "id": "8537ed48",
   "metadata": {},
   "outputs": [
    {
     "name": "stdout",
     "output_type": "stream",
     "text": [
      "[[ 0.56800967  0.56260595  0.5919131   0.34647502 -0.17617948 -0.12856696]\n",
      " [-1.0595565  -1.04947649 -1.10414559 -0.64630917  0.3286425   0.23982683]]\n"
     ]
    }
   ],
   "source": [
    "kmeans = KMeans(n_clusters=2).fit(StandardScaler().fit_transform(data[features]))\n",
    "centroids = kmeans.cluster_centers_\n",
    "print(centroids)\n",
    "label = kmeans.fit_predict(StandardScaler().fit_transform(data[features]))"
   ]
  },
  {
   "cell_type": "markdown",
   "id": "8fee0eef",
   "metadata": {},
   "source": [
    "Przypisujemy wyniki klasteryzacji do nowo utworzonej kolumny w celu późniejszego porównania."
   ]
  },
  {
   "cell_type": "code",
   "execution_count": 13,
   "id": "d1370ef3",
   "metadata": {},
   "outputs": [],
   "source": [
    "result=kmeans.labels_\n",
    "data['label_kmeans']=result"
   ]
  },
  {
   "cell_type": "code",
   "execution_count": 14,
   "id": "99392ad1",
   "metadata": {},
   "outputs": [
    {
     "data": {
      "text/plain": [
       "0          Finland\n",
       "1          Denmark\n",
       "2      Switzerland\n",
       "3          Iceland\n",
       "4      Netherlands\n",
       "          ...     \n",
       "109        Ukraine\n",
       "122        Lebanon\n",
       "126         Jordan\n",
       "128      Sri Lanka\n",
       "145       Botswana\n",
       "Name: Country name, Length: 97, dtype: object"
      ]
     },
     "execution_count": 14,
     "metadata": {},
     "output_type": "execute_result"
    }
   ],
   "source": [
    "data[data['label_kmeans']==1]['Country name']\n",
    "#print(data[data['label_kmeans']==1]['Country name'])"
   ]
  },
  {
   "cell_type": "markdown",
   "id": "c398ff7c",
   "metadata": {},
   "source": [
    "Macierz pomyłek dla algorytmu:"
   ]
  },
  {
   "cell_type": "code",
   "execution_count": 15,
   "id": "d817298d",
   "metadata": {},
   "outputs": [
    {
     "data": {
      "text/plain": [
       "array([[40,  8],\n",
       "       [12, 89]], dtype=int64)"
      ]
     },
     "execution_count": 15,
     "metadata": {},
     "output_type": "execute_result"
    }
   ],
   "source": [
    "confusion_matrix(data['Ladder score 2'],data['label_kmeans'])"
   ]
  },
  {
   "cell_type": "markdown",
   "id": "b0d6928f",
   "metadata": {},
   "source": [
    "Algorytm jest zbyt łagodny - zbyt łatwo przyporządkowuje obserwacje do klastra, w którym znajdują się kraje szczęśliwe."
   ]
  },
  {
   "cell_type": "markdown",
   "id": "402736a6",
   "metadata": {},
   "source": [
    "Wyniki precyzji, czułości, F-score dla obu klastrów prezentują się następująco:"
   ]
  },
  {
   "cell_type": "code",
   "execution_count": 16,
   "id": "22e3df3c",
   "metadata": {},
   "outputs": [
    {
     "data": {
      "text/plain": [
       "(array([0.76923077, 0.91752577]),\n",
       " array([0.83333333, 0.88118812]),\n",
       " array([0.8      , 0.8989899]),\n",
       " array([ 48, 101], dtype=int64))"
      ]
     },
     "execution_count": 16,
     "metadata": {},
     "output_type": "execute_result"
    }
   ],
   "source": [
    "precision_recall_fscore_support(data['Ladder score 2'],data['label_kmeans'])"
   ]
  },
  {
   "cell_type": "code",
   "execution_count": 17,
   "id": "89a1422d",
   "metadata": {
    "scrolled": false
   },
   "outputs": [
    {
     "data": {
      "text/plain": [
       "<mpl_toolkits.mplot3d.art3d.Path3DCollection at 0x1f8607c3388>"
      ]
     },
     "execution_count": 17,
     "metadata": {},
     "output_type": "execute_result"
    },
    {
     "data": {
      "image/png": "[encoded data removed]",
      "text/plain": [
       "<Figure size 864x648 with 1 Axes>"
      ]
     },
     "metadata": {
      "needs_background": "light"
     },
     "output_type": "display_data"
    }
   ],
   "source": [
    "fig = plt.figure(figsize=(12, 9))\n",
    "ax = Axes3D(fig)\n",
    "cb = ax.scatter(x[:,0],x[:,1],x[:,2], c=label,s=70, alpha=0.6)\n",
    "\n",
    "plt.scatter(centroids[:, 0], centroids[:, 1], c='red', s=50)"
   ]
  },
  {
   "cell_type": "markdown",
   "id": "8e3ca602",
   "metadata": {},
   "source": [
    "<h3>RANDOM FOREST</h3>"
   ]
  },
  {
   "cell_type": "markdown",
   "id": "a36790d5",
   "metadata": {},
   "source": [
    "<p><b>Las losowy</b> (ang. random forest) to metoda uczenia maszynowego dla klasyfikacji, regresji. Zbudowany jest z wielu klasyfikatorów (drzew decyzyjnych) - stąd nazwa “las”. Każde drzewo budowane na innym, losowo wybranym podzbiorze zbioru danych uczących. Działanie lasów losowych polega na klasyfikacji za pomocą grupy drzew decyzyjnych. Końcowa decyzja jest podejmowana w wyniku głosowania większościowego nad klasami wskazanymi przez poszczególne drzewa decyzyjne.</p>\n"
   ]
  },
  {
   "cell_type": "markdown",
   "id": "2004eee1",
   "metadata": {},
   "source": [
    "<b>Najważniejszymi zaletami lasu losowego są:</b><br><br>\n",
    "<ul><li>Odporność na rozmaite problemy związane z danymi. Mamy tutaj na myśli brak danych, zmienne objaśniające bez znaczenia, dużą liczbę zmiennych objaśniających czy wartości odstające.</li><li>\n",
    "Możliwość dokładniejszego odtworzenia złożonych zależności niż byłyby to w stanie zrobić drzewa decyzyjne. Warto tutaj wspomnieć, że siła predykcyjna lasu losowego jest zazwyczaj nieco mniejsza, ale wciąż porównywalna z sieciami neuronowymi.</li><li>\n",
    "Odporność na przeuczenie.</li><li>\n",
    "Stabilność.</li><li>\n",
    "Możliwość interakcji pomiędzy zmiennymi.</li><li>\n",
    "Możliwość określenia różnych kosztów błędnych klasyfikacji.</li></ul>\n"
   ]
  },
  {
   "cell_type": "markdown",
   "id": "fe80c046",
   "metadata": {},
   "source": [
    "70% obserwacji przyporządkowujemy do zbioru uczącego, 30% do zbioru testowego."
   ]
  },
  {
   "cell_type": "code",
   "execution_count": 18,
   "id": "2bcd2a75",
   "metadata": {},
   "outputs": [],
   "source": [
    "X_train, X_test, y_train, y_test = train_test_split(data, data['Ladder score 2'], test_size = 0.3, random_state=457)"
   ]
  },
  {
   "cell_type": "code",
   "execution_count": 19,
   "id": "bea5f68c",
   "metadata": {},
   "outputs": [],
   "source": [
    "rf = RandomForestClassifier(n_estimators=100, criterion='gini')"
   ]
  },
  {
   "cell_type": "code",
   "execution_count": 20,
   "id": "5422b054",
   "metadata": {},
   "outputs": [],
   "source": [
    "rf_fitted = rf.fit(X_train[features], y_train)"
   ]
  },
  {
   "cell_type": "code",
   "execution_count": 21,
   "id": "d2349296",
   "metadata": {
    "scrolled": true
   },
   "outputs": [
    {
     "data": {
      "text/plain": [
       "0.8"
      ]
     },
     "execution_count": 21,
     "metadata": {},
     "output_type": "execute_result"
    }
   ],
   "source": [
    "rf_fitted.score(X_test[features],y_test)"
   ]
  },
  {
   "cell_type": "markdown",
   "id": "2696dbd4",
   "metadata": {},
   "source": [
    "Skuteczność modelu lasu losowego na danych testowych jest na poziomie 91,1%."
   ]
  },
  {
   "cell_type": "code",
   "execution_count": 22,
   "id": "151a2a41",
   "metadata": {},
   "outputs": [],
   "source": [
    "rf_predict=rf.predict(X_test[features])"
   ]
  },
  {
   "cell_type": "markdown",
   "id": "b1acb42f",
   "metadata": {},
   "source": [
    "Precyzja, czułość i F score są bardziej wyrównane niż było to w przypadku metody k-średnich."
   ]
  },
  {
   "cell_type": "code",
   "execution_count": 23,
   "id": "d6b43b71",
   "metadata": {},
   "outputs": [
    {
     "data": {
      "text/plain": [
       "(array([0.75, 0.84]),\n",
       " array([0.78947368, 0.80769231]),\n",
       " array([0.76923077, 0.82352941]),\n",
       " array([19, 26], dtype=int64))"
      ]
     },
     "execution_count": 23,
     "metadata": {},
     "output_type": "execute_result"
    }
   ],
   "source": [
    "precision_recall_fscore_support(y_test,rf_predict)"
   ]
  },
  {
   "cell_type": "markdown",
   "id": "c149aaf6",
   "metadata": {},
   "source": [
    "Macierz pomyłek:"
   ]
  },
  {
   "cell_type": "code",
   "execution_count": 24,
   "id": "29cd1dc8",
   "metadata": {},
   "outputs": [
    {
     "data": {
      "text/plain": [
       "array([[15,  4],\n",
       "       [ 5, 21]], dtype=int64)"
      ]
     },
     "execution_count": 24,
     "metadata": {},
     "output_type": "execute_result"
    }
   ],
   "source": [
    "confusion_matrix(y_test,rf_predict)"
   ]
  },
  {
   "cell_type": "markdown",
   "id": "30c7f447",
   "metadata": {},
   "source": [
    "<h3>BOOSTING TREES</h3>"
   ]
  },
  {
   "cell_type": "markdown",
   "id": "0920e6f6",
   "metadata": {},
   "source": [
    "<p><b>Gradient Boosting</b> to technika uczenia maszynowego do regresji, klasyfikacji i innych zadań, która tworzy model predykcyjny w postaci zestawu słabych modeli predykcyjnych, zazwyczaj drzew decyzyjnych. Gdy drzewo decyzyjne jest słabym uczniem, otrzymany algorytm nazywa się drzewami wzmacnianymi gradientem, które zwykle przewyższają las losowy. Buduje model w sposób etapowy, tak jak robią to inne metody wzmacniające, i uogólnia je, umożliwiając optymalizację dowolnej różniczkowalnej funkcji straty.</p>\n"
   ]
  },
  {
   "cell_type": "markdown",
   "id": "f971201b",
   "metadata": {},
   "source": [
    "Algorytm Boosting Trees rozwinął się z zastosowania metod wzmacniania do drzew regresyjnych. Główną ideą jest tworzenie ciągu (bardzo) prostych drzew, z których każde kolejne jest zbudowane do predykcji reszt generowanych przez poprzednie. Metoda buduje drzewa binarne, tzn. dzieli dane na dwie próby w każdym węźle podziału. Przypuśćmy, że mamy ograniczyć złożoność drzew do 3 węzłów (w rzeczywistości użytkownik może ustalać jaka ma być złożoność): tzn. drzewo składa się z korzenia i dwóch potomków czyli jest tylko jeden podział. W kolejnych krokach wzmacniania (algorytmu wzmacniania drzew) określany jest pojedynczy (najlepszy) podział danych i obliczane są odchyłki wartości obserwowanych od średnich (reszty w każdym podziale). Kolejne drzewo o trzech węzłach jest dopasowywane do tych reszt i wyznacza kolejny podział, który jest dopasowywany do tych reszt i wyznacza kolejny podział, przy którym wariancja reszt (czyli błąd) jest jeszcze mniejsza (dla danego wcześniej ciągu drzew).\n"
   ]
  },
  {
   "cell_type": "markdown",
   "id": "fffda7de",
   "metadata": {},
   "source": [
    "<b>Zalety</b><br><br>\n",
    "Jest to uogólniony algorytm, który działa dla każdej różniczkowalnej funkcji straty.\n",
    "Często zapewnia wyniki predykcyjne, które są znacznie lepsze niż inne algorytmy\n",
    "Potrafi obsłużyć brakujące dane - imputacja nie jest wymagana. Ta metoda jest wrażliwa na wartości odstające . Wartości odstające będą miały znacznie większe wartości resztowe niż wartości inne niż wartości odstające, więc wzmocnienie gradientu skupi nieproporcjonalną część uwagi na tych punktach. Wykorzystanie średniego błędu bezwzględnego (MAE) do obliczenia błędu zamiast średniego błędu kwadratowego (MSE) może pomóc zmniejszyć wpływ tych wartości odstających, ponieważ ta ostatnia daje większą wagę większym różnicom. Parametr „kryterium” pomaga wybrać tę funkcję.\n",
    "Jest podatny na nadmierne dopasowanie, jeśli liczba drzew jest zbyt duża. Parametr „n_estimators” może pomóc określić dobry punkt do zatrzymania, zanim nasz model zacznie nadmiernie dopasowywać\n"
   ]
  },
  {
   "cell_type": "code",
   "execution_count": 25,
   "id": "993e4582",
   "metadata": {},
   "outputs": [],
   "source": [
    "gb = GradientBoostingClassifier(n_estimators=100, learning_rate=0.1, max_features=0.9, min_samples_leaf=5,\n",
    "                                              min_samples_split=6, random_state=419).fit(X_train[features], y_train)"
   ]
  },
  {
   "cell_type": "markdown",
   "id": "d905ea29",
   "metadata": {},
   "source": [
    "Wyniki wzmocnienia gradientowego są na bardzo wysokim poziomie - skuteczność jest równa 88,8%."
   ]
  },
  {
   "cell_type": "code",
   "execution_count": 26,
   "id": "8d50ad21",
   "metadata": {},
   "outputs": [
    {
     "data": {
      "text/plain": [
       "0.7777777777777778"
      ]
     },
     "execution_count": 26,
     "metadata": {},
     "output_type": "execute_result"
    }
   ],
   "source": [
    "gb.score(X_test[features],y_test)"
   ]
  },
  {
   "cell_type": "code",
   "execution_count": 27,
   "id": "4693b8b4",
   "metadata": {},
   "outputs": [],
   "source": [
    "gb_predict=gb.predict(X_test[features])"
   ]
  },
  {
   "cell_type": "markdown",
   "id": "45d2e35f",
   "metadata": {},
   "source": [
    "Dla obu klas, parametry wynoszą powyżej 70%."
   ]
  },
  {
   "cell_type": "code",
   "execution_count": 28,
   "id": "dd4c83fe",
   "metadata": {},
   "outputs": [
    {
     "data": {
      "text/plain": [
       "(array([0.71428571, 0.83333333]),\n",
       " array([0.78947368, 0.76923077]),\n",
       " array([0.75, 0.8 ]),\n",
       " array([19, 26], dtype=int64))"
      ]
     },
     "execution_count": 28,
     "metadata": {},
     "output_type": "execute_result"
    }
   ],
   "source": [
    "precision_recall_fscore_support(y_test,gb_predict)"
   ]
  },
  {
   "cell_type": "markdown",
   "id": "cbf86b38",
   "metadata": {},
   "source": [
    "Macierz pomyłek:"
   ]
  },
  {
   "cell_type": "code",
   "execution_count": 29,
   "id": "2922290f",
   "metadata": {},
   "outputs": [
    {
     "data": {
      "text/plain": [
       "array([[15,  4],\n",
       "       [ 6, 20]], dtype=int64)"
      ]
     },
     "execution_count": 29,
     "metadata": {},
     "output_type": "execute_result"
    }
   ],
   "source": [
    "confusion_matrix(y_test,gb_predict)"
   ]
  },
  {
   "cell_type": "markdown",
   "id": "2e41cfd0",
   "metadata": {},
   "source": [
    "<h3>Linear Dyscriminant Analysis</h3>"
   ]
  },
  {
   "cell_type": "markdown",
   "id": "c04d5042",
   "metadata": {},
   "source": [
    "<b>Liniowa Analiza Dyskryminacyjna</b> (ang. Linear Discriminant Analysys, LDA) jest jedną z metod klasyfikacji danych. Należy do metod statystycznych, dokonuje podziału na obszary graniczne funkcjami liniowymi. Używana w uczeniu maszynowym do znalezienia liniowej kombinacji cech, które najlepiej rozróżniają dwie lub więcej klas obiektów lub zdarzeń. Wynikowe kombinacje są używane jako klasyfikator liniowy lub, częściej, służą redukcji wymiarów do późniejszej klasyfikacji statystycznej.\n",
    "Liniowa analiza dyskryminacyjna zakłada, że funkcje gęstości prawdopodobieństwa w klasach ´ k = 1, 2 maj ˛a D-wymiarowe rozkłady normalne N (µk , Σ) o równych macierzach kowariancji w klasach. Można więc powiedzieć, że LDA jest równoważne FLD (liniowy dyskryminator Fishera) przy dodatkowych założeniach, ˙ że rozkłady w klasach są gaussowskie i macierze kowariancji w klasach są równe\n",
    "Σ = Σ1 = Σ2. "
   ]
  },
  {
   "cell_type": "code",
   "execution_count": 30,
   "id": "247acd2f",
   "metadata": {},
   "outputs": [],
   "source": [
    "lda=LDA(solver='svd').fit(X_train[features], y_train)"
   ]
  },
  {
   "cell_type": "markdown",
   "id": "525de75f",
   "metadata": {},
   "source": [
    "Skuteczność LDA kształtuje się na poziomie 93,3%."
   ]
  },
  {
   "cell_type": "code",
   "execution_count": 31,
   "id": "631cd9fb",
   "metadata": {},
   "outputs": [
    {
     "data": {
      "text/plain": [
       "0.8444444444444444"
      ]
     },
     "execution_count": 31,
     "metadata": {},
     "output_type": "execute_result"
    }
   ],
   "source": [
    "lda_score=lda.score(X_test[features],y_test)\n",
    "lda_score"
   ]
  },
  {
   "cell_type": "code",
   "execution_count": 32,
   "id": "91c35a91",
   "metadata": {},
   "outputs": [],
   "source": [
    "lda_predict=lda.predict(X_test[features])"
   ]
  },
  {
   "cell_type": "markdown",
   "id": "81eb305d",
   "metadata": {},
   "source": [
    "W przypadku LDA precyzja i F-score są nieco niższe dla klasy 0, oznaczającej kraje szczęśliwe."
   ]
  },
  {
   "cell_type": "code",
   "execution_count": 33,
   "id": "ac2db4a4",
   "metadata": {},
   "outputs": [
    {
     "data": {
      "text/plain": [
       "(array([0.8 , 0.88]),\n",
       " array([0.84210526, 0.84615385]),\n",
       " array([0.82051282, 0.8627451 ]),\n",
       " array([19, 26], dtype=int64))"
      ]
     },
     "execution_count": 33,
     "metadata": {},
     "output_type": "execute_result"
    }
   ],
   "source": [
    "lda_stats=precision_recall_fscore_support(y_test,lda_predict)\n",
    "lda_stats"
   ]
  },
  {
   "cell_type": "code",
   "execution_count": 34,
   "id": "9d1243d9",
   "metadata": {},
   "outputs": [
    {
     "data": {
      "text/plain": [
       "array([[16,  3],\n",
       "       [ 4, 22]], dtype=int64)"
      ]
     },
     "execution_count": 34,
     "metadata": {},
     "output_type": "execute_result"
    }
   ],
   "source": [
    "confusion_matrix(y_test,lda_predict)"
   ]
  },
  {
   "cell_type": "code",
   "execution_count": 35,
   "id": "467f6697",
   "metadata": {},
   "outputs": [],
   "source": [
    "y_test['rf_result']=rf_predict"
   ]
  },
  {
   "cell_type": "markdown",
   "id": "4d04c5b5",
   "metadata": {},
   "source": [
    "W następnym kroku porównamy skuteczność metod na pełnym datasecie."
   ]
  },
  {
   "cell_type": "code",
   "execution_count": 36,
   "id": "4e310074",
   "metadata": {},
   "outputs": [
    {
     "data": {
      "text/plain": [
       "0.9395973154362416"
      ]
     },
     "execution_count": 36,
     "metadata": {},
     "output_type": "execute_result"
    }
   ],
   "source": [
    "rf_full_score=rf.score(data[features],data['Ladder score 2'])\n",
    "rf_full_score"
   ]
  },
  {
   "cell_type": "code",
   "execution_count": 37,
   "id": "4049b9cb",
   "metadata": {},
   "outputs": [],
   "source": [
    "rf_full_pred=rf.predict(data[features])"
   ]
  },
  {
   "cell_type": "code",
   "execution_count": 38,
   "id": "b85f4788",
   "metadata": {},
   "outputs": [],
   "source": [
    "rf_pred_pd=pd.DataFrame(rf_predict)"
   ]
  },
  {
   "cell_type": "code",
   "execution_count": 39,
   "id": "4a5d4f02",
   "metadata": {},
   "outputs": [
    {
     "data": {
      "text/plain": [
       "0.9328859060402684"
      ]
     },
     "execution_count": 39,
     "metadata": {},
     "output_type": "execute_result"
    }
   ],
   "source": [
    "gb_full_score=gb.score(data[features],data['Ladder score 2'])\n",
    "gb_full_score"
   ]
  },
  {
   "cell_type": "code",
   "execution_count": 40,
   "id": "4a1ed89a",
   "metadata": {},
   "outputs": [],
   "source": [
    "gb_full_pred=gb.predict(data[features])"
   ]
  },
  {
   "cell_type": "code",
   "execution_count": 41,
   "id": "96475c5a",
   "metadata": {},
   "outputs": [
    {
     "data": {
      "text/plain": [
       "0.8926174496644296"
      ]
     },
     "execution_count": 41,
     "metadata": {},
     "output_type": "execute_result"
    }
   ],
   "source": [
    "lda_full_score=lda.score(data[features],data['Ladder score 2'])\n",
    "lda_full_score"
   ]
  },
  {
   "cell_type": "code",
   "execution_count": 42,
   "id": "cc5461ed",
   "metadata": {},
   "outputs": [],
   "source": [
    "lda_full_pred=lda.predict(data[features])"
   ]
  },
  {
   "cell_type": "markdown",
   "id": "b4b24d6d",
   "metadata": {},
   "source": [
    "Jak można zauważyć, random forest oraz gradient boosting uzyskały niemal 100% skuteczność, podczas gdy LDA wypadło wyraźnie gorzej z niespełna 90%."
   ]
  },
  {
   "cell_type": "code",
   "execution_count": 43,
   "id": "6444ae2e",
   "metadata": {},
   "outputs": [],
   "source": [
    "data['rf_result']=rf_full_pred"
   ]
  },
  {
   "cell_type": "code",
   "execution_count": 44,
   "id": "030dff05",
   "metadata": {},
   "outputs": [],
   "source": [
    "data['gb_result']=gb_full_pred"
   ]
  },
  {
   "cell_type": "code",
   "execution_count": 45,
   "id": "4016c764",
   "metadata": {},
   "outputs": [],
   "source": [
    "data['lda_result']=lda_full_pred"
   ]
  },
  {
   "cell_type": "markdown",
   "id": "c86effbc",
   "metadata": {},
   "source": [
    "Porównujemy ilość niezgodnych ze stanem faktycznym predykcji dla poszczególnych modeli."
   ]
  },
  {
   "cell_type": "code",
   "execution_count": 46,
   "id": "56445a62",
   "metadata": {},
   "outputs": [
    {
     "data": {
      "text/plain": [
       "20"
      ]
     },
     "execution_count": 46,
     "metadata": {},
     "output_type": "execute_result"
    }
   ],
   "source": [
    "#careful at this point - clusters are assigned randomly so it may show correct predictions as well as errors\n",
    "n_kmeans_errors = (data['label_kmeans'] != data['Ladder score 2']).sum()\n",
    "n_kmeans_errors"
   ]
  },
  {
   "cell_type": "code",
   "execution_count": 47,
   "id": "3dee9ef2",
   "metadata": {},
   "outputs": [
    {
     "data": {
      "text/plain": [
       "9"
      ]
     },
     "execution_count": 47,
     "metadata": {},
     "output_type": "execute_result"
    }
   ],
   "source": [
    "n_rf_errors = (data['rf_result'] != data['Ladder score 2']).sum()\n",
    "n_rf_errors"
   ]
  },
  {
   "cell_type": "code",
   "execution_count": 48,
   "id": "6b940c51",
   "metadata": {},
   "outputs": [
    {
     "data": {
      "text/plain": [
       "10"
      ]
     },
     "execution_count": 48,
     "metadata": {},
     "output_type": "execute_result"
    }
   ],
   "source": [
    "n_gb_errors = (data['gb_result'] != data['Ladder score 2']).sum()\n",
    "n_gb_errors"
   ]
  },
  {
   "cell_type": "code",
   "execution_count": 49,
   "id": "45dd333f",
   "metadata": {},
   "outputs": [
    {
     "data": {
      "text/plain": [
       "16"
      ]
     },
     "execution_count": 49,
     "metadata": {},
     "output_type": "execute_result"
    }
   ],
   "source": [
    "n_lda_errors = (data['lda_result'] != data['Ladder score 2']).sum()\n",
    "n_lda_errors"
   ]
  },
  {
   "cell_type": "markdown",
   "id": "969487a4",
   "metadata": {},
   "source": [
    "Jak widzimy, najgorzej wypada algorytm k-średnich, najlepiej metody oparte na drzewach. Wyniki nie są zaskoczeniem - k-means jest algorytmem uczenia nienadzorowanego - dodatkowo bolączką tego modelu okazała się niska czułość i przyporządkowanie zbyt wielu obserwacji do klastra z krajami szczęśliwymi. Liniowa analiza dyskryminacyjna to stosunkowo dobry algorytm, pozwalający na uzyskiwanie solidnych wyników kalsyfikacji, ustępuje jednak opartym na metodach bootstrapowych modelom lasów - random forest i gradient boostingowi. Oba te modele okazały się niemal bezbłędne, co pozwala z czystym sumieniem uznać je za najlepsze i godne polecenia w podobnych problemach."
   ]
  },
  {
   "cell_type": "code",
   "execution_count": null,
   "id": "856b8756",
   "metadata": {},
   "outputs": [],
   "source": []
  }
 ],
 "metadata": {
  "kernelspec": {
   "display_name": "Python 3",
   "language": "python",
   "name": "python3"
  },
  "language_info": {
   "codemirror_mode": {
    "name": "ipython",
    "version": 3
   },
   "file_extension": ".py",
   "mimetype": "text/x-python",
   "name": "python",
   "nbconvert_exporter": "python",
   "pygments_lexer": "ipython3",
   "version": "3.7.4"
  }
 },
 "nbformat": 4,
 "nbformat_minor": 5
}
